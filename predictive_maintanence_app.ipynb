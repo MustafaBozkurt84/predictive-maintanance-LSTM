{
  "nbformat": 4,
  "nbformat_minor": 0,
  "metadata": {
    "colab": {
      "name": "predictive_maintanence_app.ipynb",
      "provenance": [],
      "authorship_tag": "ABX9TyPE/31GPXU7QUuYNCSz2IWm",
      "include_colab_link": true
    },
    "kernelspec": {
      "name": "python3",
      "display_name": "Python 3"
    },
    "language_info": {
      "name": "python"
    }
  },
  "cells": [
    {
      "cell_type": "markdown",
      "metadata": {
        "id": "view-in-github",
        "colab_type": "text"
      },
      "source": [
        "<a href=\"https://colab.research.google.com/github/MustafaBozkurt84/predictive-maintanance-LSTM/blob/master/predictive_maintanence_app.ipynb\" target=\"_parent\"><img src=\"https://colab.research.google.com/assets/colab-badge.svg\" alt=\"Open In Colab\"/></a>"
      ]
    },
    {
      "cell_type": "code",
      "metadata": {
        "id": "_MooEJMxilLi"
      },
      "source": [
        "import numpy as np\n",
        "import pandas as pd\n",
        "from tensorflow.keras.models import Sequential\n",
        "from tensorflow.keras.layers import LSTM\n",
        "from tensorflow.keras.layers import Dense\n",
        "from tensorflow.keras.layers import Flatten\n",
        "from array import array\n",
        "import pickle\n",
        "import matplotlib.pyplot as plt\n",
        "%matplotlib inline\n"
      ],
      "execution_count": null,
      "outputs": []
    },
    {
      "cell_type": "code",
      "metadata": {
        "id": "HJcPrBoJRdm0"
      },
      "source": [
        "# Arima"
      ],
      "execution_count": 1,
      "outputs": []
    },
    {
      "cell_type": "code",
      "metadata": {
        "id": "1JUbX6ZBikV4"
      },
      "source": [
        ""
      ],
      "execution_count": null,
      "outputs": []
    },
    {
      "cell_type": "markdown",
      "metadata": {
        "id": "VHOdVpE1RdNu"
      },
      "source": [
        ""
      ]
    },
    {
      "cell_type": "code",
      "metadata": {
        "id": "FgdyaCk2Scnd"
      },
      "source": [
        "df = pd.read_excel(\"/content/drive/MyDrive/Datasets/predictive maintance /AnalizDataPM.xlsx\",engine='openpyxl')\n",
        "df[\"Time\"]= [str(i).replace(\"2020-02-02\",\"2/2/2020\").replace(\"2020-01-02\",\"2/1/2020\") for i in df[\"Time\"]]\n",
        "df['Time'] = pd.to_datetime(df['Time']) \n",
        "df['Time']=[str(i).split(\":\")[0] for i in df[\"Time\"]]\n",
        "df['Time'] = pd.to_datetime(df['Time'],format=\"%Y-%m-%d %H\") #%Y-%m-%d %H:%M:%S\n",
        "df=df.groupby(\"Time\").mean()\n",
        "df.reset_index(inplace=True)\n",
        "df.to_csv(\"/content/drive/MyDrive/Datasets/predictive maintance /DataAnaliz.csv\")\n",
        "df.head()"
      ],
      "execution_count": null,
      "outputs": []
    },
    {
      "cell_type": "code",
      "metadata": {
        "id": "JhGSsDIATgb-"
      },
      "source": [
        "pickle_in = open('/content/drive/MyDrive/model_predictive_maintanence/temp_arima.pkl', 'rb')\n",
        "temp_arima_model = pickle.load(pickle_in)\n",
        "pickle_in = open('/content/drive/MyDrive/model_predictive_maintanence/vibx_arima.pkl', 'rb')\n",
        "vibx_arima_model = pickle.load(pickle_in)\n",
        "pickle_in = open('/content/drive/MyDrive/model_predictive_maintanence/vibz_arima.pkl', 'rb')\n",
        "vibz_arima_model = pickle.load(pickle_in)\n",
        "pickle_in = open('/content/drive/MyDrive/model_predictive_maintanence/zacc_arima.pkl', 'rb')\n",
        "zacc_arima_model = pickle.load(pickle_in)\n",
        "pickle_in = open('/content/drive/MyDrive/model_predictive_maintanence/crest_arima.pkl', 'rb')\n",
        "crest_arima_model = pickle.load(pickle_in)\n",
        "pickle_in = open('/content/drive/MyDrive/model_predictive_maintanence/zfreq_arima.pkl', 'rb')\n",
        "zfreq_arima_model = pickle.load(pickle_in)"
      ],
      "execution_count": null,
      "outputs": []
    },
    {
      "cell_type": "code",
      "metadata": {
        "id": "iN0i5WqvPW0G"
      },
      "source": [
        "df_arima = pd.DataFrame()\n",
        "arima_models= [vibx_arima_model,vibz_arima_model,temp_arima_model,zacc_arima_model,crest_arima_model,zfreq_arima_model]\n",
        "columns=[\"vibx\",\"vibz\",\"temp\",\"zacc\",\"crest\",\"zfreq\"]\n",
        "for model,col in zip(arima_models,columns):\n",
        "    df_arima['arima_'+col]=model.predict(start=df.index[0],end=df.index[-1],typ='levels')\n",
        "\n"
      ],
      "execution_count": null,
      "outputs": []
    }
  ]
}