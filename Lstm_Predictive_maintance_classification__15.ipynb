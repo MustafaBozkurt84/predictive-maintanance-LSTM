{
  "nbformat": 4,
  "nbformat_minor": 0,
  "metadata": {
    "colab": {
      "name": "Lstm_Predictive_maintance_classification _15.ipynb",
      "provenance": [],
      "include_colab_link": true
    },
    "kernelspec": {
      "name": "python3",
      "display_name": "Python 3"
    },
    "language_info": {
      "name": "python"
    },
    "accelerator": "GPU"
  },
  "cells": [
    {
      "cell_type": "markdown",
      "metadata": {
        "id": "view-in-github",
        "colab_type": "text"
      },
      "source": [
        "<a href=\"https://colab.research.google.com/github/MustafaBozkurt84/predictive-maintanance-LSTM/blob/master/Lstm_Predictive_maintance_classification__15.ipynb\" target=\"_parent\"><img src=\"https://colab.research.google.com/assets/colab-badge.svg\" alt=\"Open In Colab\"/></a>"
      ]
    },
    {
      "cell_type": "code",
      "metadata": {
        "colab": {
          "base_uri": "https://localhost:8080/"
        },
        "id": "ci0h-p7Xuc8p",
        "outputId": "e8181eb5-afe5-4708-efa1-aaa4d35fd39e"
      },
      "source": [
        "\n",
        "\n",
        "import keras\n",
        "import pandas as pd\n",
        "import numpy as np\n",
        "import matplotlib.pyplot as plt\n",
        "import os\n",
        "import seaborn as sns\n",
        "# Setting seed for reproducibility\n",
        "np.random.seed(1234)  \n",
        "PYTHONHASHSEED = 0\n",
        "\n",
        "from sklearn import preprocessing\n",
        "from sklearn.metrics import confusion_matrix, recall_score, precision_score\n",
        "from keras.models import Sequential,load_model\n",
        "from keras.layers import Dense, Dropout, LSTM\n",
        "\n",
        "\n",
        "##################################\n",
        "# Data Ingestion\n",
        "##################################\n",
        "\n",
        "# read training data - It is the aircraft engine run-to-failure data.\n",
        "from google.colab import drive\n",
        "drive.mount('/content/drive')\n",
        "\n"
      ],
      "execution_count": 2,
      "outputs": [
        {
          "output_type": "stream",
          "text": [
            "Mounted at /content/drive\n"
          ],
          "name": "stdout"
        }
      ]
    },
    {
      "cell_type": "code",
      "metadata": {
        "colab": {
          "base_uri": "https://localhost:8080/"
        },
        "id": "AR14t2U4ZCxw",
        "outputId": "c7fa62bd-9e59-4ea9-ae7b-4e83846e25b5"
      },
      "source": [
        "df =pd.read_csv(\"/content/drive/MyDrive/Datasets/predictive maintance /31_hidrolikmotoru_analiz.csv\")"
      ],
      "execution_count": 5,
      "outputs": [
        {
          "output_type": "stream",
          "text": [
            "/usr/local/lib/python3.7/dist-packages/IPython/core/interactiveshell.py:2718: DtypeWarning: Columns (2) have mixed types.Specify dtype option on import or set low_memory=False.\n",
            "  interactivity=interactivity, compiler=compiler, result=result)\n"
          ],
          "name": "stderr"
        }
      ]
    },
    {
      "cell_type": "code",
      "metadata": {
        "id": "PMTzySFU6hhV",
        "colab": {
          "base_uri": "https://localhost:8080/",
          "height": 204
        },
        "outputId": "57243e33-6dc0-4acc-cc9d-4bc86877cc1b"
      },
      "source": [
        "df.drop([\"name\",\"partno\",\"balancerbasinci\",\"spm\",\"xkurt\"],axis=1,inplace=True)\n",
        "df.columns=['Time', 'vibx', 'vibz', 'temp', 'zacc', 'zfreq', 'crest']\n",
        "df[\"Time\"]= [str(i).replace(\"2020-02-02\",\"2/2/2020\").replace(\"2020-01-02\",\"2/1/2020\") for i in df[\"Time\"]]\n",
        "\n",
        "df['Time'] = pd.to_datetime(df['Time']) \n",
        "df['Time']=[str(i).split()[0] for i in df[\"Time\"]]\n",
        "df['Time'] = pd.to_datetime(df['Time'],format=\"%Y-%m-%d %H\") #%Y-%m-%d %H:%M:%S\n",
        "\n",
        "df=df.groupby(\"Time\").mean()\n",
        "df.reset_index(inplace=True)\n",
        "df.to_csv(\"/content/drive/MyDrive/Datasets/predictive maintance /DataAnaliz.csv\")\n",
        "df.head()"
      ],
      "execution_count": 6,
      "outputs": [
        {
          "output_type": "execute_result",
          "data": {
            "text/html": [
              "<div>\n",
              "<style scoped>\n",
              "    .dataframe tbody tr th:only-of-type {\n",
              "        vertical-align: middle;\n",
              "    }\n",
              "\n",
              "    .dataframe tbody tr th {\n",
              "        vertical-align: top;\n",
              "    }\n",
              "\n",
              "    .dataframe thead th {\n",
              "        text-align: right;\n",
              "    }\n",
              "</style>\n",
              "<table border=\"1\" class=\"dataframe\">\n",
              "  <thead>\n",
              "    <tr style=\"text-align: right;\">\n",
              "      <th></th>\n",
              "      <th>Time</th>\n",
              "      <th>vibx</th>\n",
              "      <th>vibz</th>\n",
              "      <th>temp</th>\n",
              "      <th>zacc</th>\n",
              "      <th>zfreq</th>\n",
              "      <th>crest</th>\n",
              "    </tr>\n",
              "  </thead>\n",
              "  <tbody>\n",
              "    <tr>\n",
              "      <th>0</th>\n",
              "      <td>2020-01-01</td>\n",
              "      <td>0.588430</td>\n",
              "      <td>0.489543</td>\n",
              "      <td>21.010227</td>\n",
              "      <td>0.159783</td>\n",
              "      <td>0.037760</td>\n",
              "      <td>4.590732</td>\n",
              "    </tr>\n",
              "    <tr>\n",
              "      <th>1</th>\n",
              "      <td>2020-01-03</td>\n",
              "      <td>1.008986</td>\n",
              "      <td>0.982548</td>\n",
              "      <td>29.085213</td>\n",
              "      <td>0.255672</td>\n",
              "      <td>0.064294</td>\n",
              "      <td>4.027926</td>\n",
              "    </tr>\n",
              "    <tr>\n",
              "      <th>2</th>\n",
              "      <td>2020-01-04</td>\n",
              "      <td>0.983633</td>\n",
              "      <td>0.897994</td>\n",
              "      <td>30.191087</td>\n",
              "      <td>0.255289</td>\n",
              "      <td>0.062603</td>\n",
              "      <td>4.134363</td>\n",
              "    </tr>\n",
              "    <tr>\n",
              "      <th>3</th>\n",
              "      <td>2020-01-05</td>\n",
              "      <td>0.605476</td>\n",
              "      <td>0.514866</td>\n",
              "      <td>23.518047</td>\n",
              "      <td>0.158782</td>\n",
              "      <td>0.038718</td>\n",
              "      <td>4.042531</td>\n",
              "    </tr>\n",
              "    <tr>\n",
              "      <th>4</th>\n",
              "      <td>2020-01-06</td>\n",
              "      <td>1.067184</td>\n",
              "      <td>0.924652</td>\n",
              "      <td>29.734194</td>\n",
              "      <td>0.283885</td>\n",
              "      <td>0.067874</td>\n",
              "      <td>4.291912</td>\n",
              "    </tr>\n",
              "  </tbody>\n",
              "</table>\n",
              "</div>"
            ],
            "text/plain": [
              "        Time      vibx      vibz       temp      zacc     zfreq     crest\n",
              "0 2020-01-01  0.588430  0.489543  21.010227  0.159783  0.037760  4.590732\n",
              "1 2020-01-03  1.008986  0.982548  29.085213  0.255672  0.064294  4.027926\n",
              "2 2020-01-04  0.983633  0.897994  30.191087  0.255289  0.062603  4.134363\n",
              "3 2020-01-05  0.605476  0.514866  23.518047  0.158782  0.038718  4.042531\n",
              "4 2020-01-06  1.067184  0.924652  29.734194  0.283885  0.067874  4.291912"
            ]
          },
          "metadata": {
            "tags": []
          },
          "execution_count": 6
        }
      ]
    },
    {
      "cell_type": "code",
      "metadata": {
        "id": "p53PR6AJJPgO"
      },
      "source": [
        "#for feature in df.columns[1:7]: \n",
        " #   df[feature]=np.log(df[feature])"
      ],
      "execution_count": 7,
      "outputs": []
    },
    {
      "cell_type": "code",
      "metadata": {
        "id": "sSesp4PV-5g8"
      },
      "source": [
        "\n",
        "#df['Hour'] = df['Time'].apply(lambda time: time.hour)\n",
        "#df['Month'] = df['Time'].apply(lambda time: time.month)\n",
        "#df['Day of Week'] = df['Time'].apply(lambda time: time.dayofweek)\n",
        "#df['Year'] = df['Time'].apply(lambda t: t.year)\n",
        "#df[\"Week\"] = df['Time'].apply(lambda t: t.week)\n",
        "\n",
        "#df=pd.get_dummies(df,columns=['Hour','Month','Day of Week','Year'],drop_first=True)\n",
        "\n"
      ],
      "execution_count": 8,
      "outputs": []
    },
    {
      "cell_type": "code",
      "metadata": {
        "id": "1JT5X3lN-wQ0"
      },
      "source": [
        "#for col in df.columns[1:7]:\n",
        " # for i in [1,2,3,4,5]:\n",
        "  #    df['lag_'+str(i)+col] = df[col].shift(i)"
      ],
      "execution_count": 9,
      "outputs": []
    },
    {
      "cell_type": "code",
      "metadata": {
        "id": "fd0Y9Z8raB6i"
      },
      "source": [
        "#for col in df.columns[1:7]:\n",
        " # df[col+'expanding_mean_5'] = df[col].expanding(7).mean()\n",
        "  #df[col+'expanding_std_5'] = df[col].expanding(7).std()\n",
        "#df.dropna(axis=0,inplace=True)\n",
        "#df.reset_index(drop=True,inplace=True)"
      ],
      "execution_count": 10,
      "outputs": []
    },
    {
      "cell_type": "code",
      "metadata": {
        "id": "kxa0gakwZ2XT"
      },
      "source": [
        "#ariza_tarihleri=[\"2020-01-27 14:00:00\",\"2020-09-11 14:00:00\",\"2020-10-06 18:00:00\",\"2020-10-10 08:00:00\",\"2020-10-13 04:00:00\",\"2020-10-18 00:00:00\",\"2020-10-30 09:00:00\",\"2020-11-02 05:00:00\"]\n",
        "ariza_tarihleri=[\"2020-01-27\",\"2020-09-11\",\"2020-10-06\",\"2020-10-10\",\"2020-10-13\",\"2020-10-18\",\"2020-10-30\",\"2020-11-02\"]"
      ],
      "execution_count": 11,
      "outputs": []
    },
    {
      "cell_type": "code",
      "metadata": {
        "colab": {
          "base_uri": "https://localhost:8080/",
          "height": 419
        },
        "id": "f0nxwRmYBUzu",
        "outputId": "f7087d88-10b4-4557-bcae-c8d92b0b2e70"
      },
      "source": [
        "df"
      ],
      "execution_count": 12,
      "outputs": [
        {
          "output_type": "execute_result",
          "data": {
            "text/html": [
              "<div>\n",
              "<style scoped>\n",
              "    .dataframe tbody tr th:only-of-type {\n",
              "        vertical-align: middle;\n",
              "    }\n",
              "\n",
              "    .dataframe tbody tr th {\n",
              "        vertical-align: top;\n",
              "    }\n",
              "\n",
              "    .dataframe thead th {\n",
              "        text-align: right;\n",
              "    }\n",
              "</style>\n",
              "<table border=\"1\" class=\"dataframe\">\n",
              "  <thead>\n",
              "    <tr style=\"text-align: right;\">\n",
              "      <th></th>\n",
              "      <th>Time</th>\n",
              "      <th>vibx</th>\n",
              "      <th>vibz</th>\n",
              "      <th>temp</th>\n",
              "      <th>zacc</th>\n",
              "      <th>zfreq</th>\n",
              "      <th>crest</th>\n",
              "    </tr>\n",
              "  </thead>\n",
              "  <tbody>\n",
              "    <tr>\n",
              "      <th>0</th>\n",
              "      <td>2020-01-01</td>\n",
              "      <td>0.588430</td>\n",
              "      <td>0.489543</td>\n",
              "      <td>21.010227</td>\n",
              "      <td>0.159783</td>\n",
              "      <td>0.037760</td>\n",
              "      <td>4.590732</td>\n",
              "    </tr>\n",
              "    <tr>\n",
              "      <th>1</th>\n",
              "      <td>2020-01-03</td>\n",
              "      <td>1.008986</td>\n",
              "      <td>0.982548</td>\n",
              "      <td>29.085213</td>\n",
              "      <td>0.255672</td>\n",
              "      <td>0.064294</td>\n",
              "      <td>4.027926</td>\n",
              "    </tr>\n",
              "    <tr>\n",
              "      <th>2</th>\n",
              "      <td>2020-01-04</td>\n",
              "      <td>0.983633</td>\n",
              "      <td>0.897994</td>\n",
              "      <td>30.191087</td>\n",
              "      <td>0.255289</td>\n",
              "      <td>0.062603</td>\n",
              "      <td>4.134363</td>\n",
              "    </tr>\n",
              "    <tr>\n",
              "      <th>3</th>\n",
              "      <td>2020-01-05</td>\n",
              "      <td>0.605476</td>\n",
              "      <td>0.514866</td>\n",
              "      <td>23.518047</td>\n",
              "      <td>0.158782</td>\n",
              "      <td>0.038718</td>\n",
              "      <td>4.042531</td>\n",
              "    </tr>\n",
              "    <tr>\n",
              "      <th>4</th>\n",
              "      <td>2020-01-06</td>\n",
              "      <td>1.067184</td>\n",
              "      <td>0.924652</td>\n",
              "      <td>29.734194</td>\n",
              "      <td>0.283885</td>\n",
              "      <td>0.067874</td>\n",
              "      <td>4.291912</td>\n",
              "    </tr>\n",
              "    <tr>\n",
              "      <th>...</th>\n",
              "      <td>...</td>\n",
              "      <td>...</td>\n",
              "      <td>...</td>\n",
              "      <td>...</td>\n",
              "      <td>...</td>\n",
              "      <td>...</td>\n",
              "      <td>...</td>\n",
              "    </tr>\n",
              "    <tr>\n",
              "      <th>358</th>\n",
              "      <td>2021-01-18</td>\n",
              "      <td>1.805291</td>\n",
              "      <td>1.343914</td>\n",
              "      <td>34.741699</td>\n",
              "      <td>0.754880</td>\n",
              "      <td>0.143463</td>\n",
              "      <td>5.219309</td>\n",
              "    </tr>\n",
              "    <tr>\n",
              "      <th>359</th>\n",
              "      <td>2021-01-19</td>\n",
              "      <td>1.864468</td>\n",
              "      <td>1.384201</td>\n",
              "      <td>31.716146</td>\n",
              "      <td>0.822474</td>\n",
              "      <td>0.150607</td>\n",
              "      <td>5.455394</td>\n",
              "    </tr>\n",
              "    <tr>\n",
              "      <th>360</th>\n",
              "      <td>2021-01-20</td>\n",
              "      <td>1.653013</td>\n",
              "      <td>1.228412</td>\n",
              "      <td>33.654478</td>\n",
              "      <td>0.673472</td>\n",
              "      <td>0.131848</td>\n",
              "      <td>5.146100</td>\n",
              "    </tr>\n",
              "    <tr>\n",
              "      <th>361</th>\n",
              "      <td>2021-01-21</td>\n",
              "      <td>1.572600</td>\n",
              "      <td>1.176131</td>\n",
              "      <td>36.674999</td>\n",
              "      <td>0.621676</td>\n",
              "      <td>0.123443</td>\n",
              "      <td>5.045110</td>\n",
              "    </tr>\n",
              "    <tr>\n",
              "      <th>362</th>\n",
              "      <td>2021-01-22</td>\n",
              "      <td>1.649846</td>\n",
              "      <td>1.241668</td>\n",
              "      <td>38.260230</td>\n",
              "      <td>0.650017</td>\n",
              "      <td>0.130279</td>\n",
              "      <td>5.039345</td>\n",
              "    </tr>\n",
              "  </tbody>\n",
              "</table>\n",
              "<p>363 rows × 7 columns</p>\n",
              "</div>"
            ],
            "text/plain": [
              "          Time      vibx      vibz       temp      zacc     zfreq     crest\n",
              "0   2020-01-01  0.588430  0.489543  21.010227  0.159783  0.037760  4.590732\n",
              "1   2020-01-03  1.008986  0.982548  29.085213  0.255672  0.064294  4.027926\n",
              "2   2020-01-04  0.983633  0.897994  30.191087  0.255289  0.062603  4.134363\n",
              "3   2020-01-05  0.605476  0.514866  23.518047  0.158782  0.038718  4.042531\n",
              "4   2020-01-06  1.067184  0.924652  29.734194  0.283885  0.067874  4.291912\n",
              "..         ...       ...       ...        ...       ...       ...       ...\n",
              "358 2021-01-18  1.805291  1.343914  34.741699  0.754880  0.143463  5.219309\n",
              "359 2021-01-19  1.864468  1.384201  31.716146  0.822474  0.150607  5.455394\n",
              "360 2021-01-20  1.653013  1.228412  33.654478  0.673472  0.131848  5.146100\n",
              "361 2021-01-21  1.572600  1.176131  36.674999  0.621676  0.123443  5.045110\n",
              "362 2021-01-22  1.649846  1.241668  38.260230  0.650017  0.130279  5.039345\n",
              "\n",
              "[363 rows x 7 columns]"
            ]
          },
          "metadata": {
            "tags": []
          },
          "execution_count": 12
        }
      ]
    },
    {
      "cell_type": "code",
      "metadata": {
        "id": "1jhGPzhqaJ_p"
      },
      "source": [
        "\n",
        "df[\"rul\"]=[np.nan for i in df.index]\n",
        "\n",
        "onceki_ariza = 0\n",
        "for i in range(len(ariza_tarihleri)):\n",
        "  ariza=ariza_tarihleri[i]\n",
        "  if onceki_ariza!=0:\n",
        "    onceki_ariza = ariza_tarihleri[i-1]\n",
        "  else:\n",
        "    onceki_ariza =\"2020-01-01\"\n",
        "  rul=[i for i in range(len(df.loc[df[df[\"Time\"]==onceki_ariza].index[0]:df[df[\"Time\"]==ariza].index[0]-1,\"rul\"].tolist()))]\n",
        "  rul.reverse()\n",
        "  df.loc[df[df[\"Time\"]==onceki_ariza].index[0]:df[df[\"Time\"]==ariza].index[0]-1,\"rul\"]= rul"
      ],
      "execution_count": 13,
      "outputs": []
    },
    {
      "cell_type": "code",
      "metadata": {
        "id": "3iTOBQpVmhYu"
      },
      "source": [
        "\n",
        "import scipy.stats as stat\n",
        "import pylab\n",
        "def plot_data(df,feature):\n",
        "    plt.figure(figsize=(10,6))\n",
        "    plt.subplot(1,2,1)\n",
        "    df[feature].hist()\n",
        "    plt.subplot(1,2,2)\n",
        "    plt.title(feature)\n",
        "    stat.probplot(df[feature],dist='norm',plot=pylab)\n",
        "    plt.show()"
      ],
      "execution_count": 14,
      "outputs": []
    },
    {
      "cell_type": "code",
      "metadata": {
        "colab": {
          "base_uri": "https://localhost:8080/",
          "height": 1000
        },
        "id": "piWjJQ-Tmj4_",
        "outputId": "0080c3ea-14f4-4a11-a241-dbe597a191dc"
      },
      "source": [
        "for feature in df.columns[1:7]:\n",
        "    plot_data(df,feature)"
      ],
      "execution_count": 15,
      "outputs": [
        {
          "output_type": "display_data",
          "data": {
            "image/png": "[encoded data removed]",
            "text/plain": [
              "<Figure size 720x432 with 2 Axes>"
            ]
          },
          "metadata": {
            "tags": [],
            "needs_background": "light"
          }
        },
        {
          "output_type": "display_data",
          "data": {
            "image/png": "[encoded data removed]",
            "text/plain": [
              "<Figure size 720x432 with 2 Axes>"
            ]
          },
          "metadata": {
            "tags": [],
            "needs_background": "light"
          }
        },
        {
          "output_type": "display_data",
          "data": {
            "image/png": "[encoded data removed]",
            "text/plain": [
              "<Figure size 720x432 with 2 Axes>"
            ]
          },
          "metadata": {
            "tags": [],
            "needs_background": "light"
          }
        },
        {
          "output_type": "display_data",
          "data": {
            "image/png": "[encoded data removed]",
            "text/plain": [
              "<Figure size 720x432 with 2 Axes>"
            ]
          },
          "metadata": {
            "tags": [],
            "needs_background": "light"
          }
        },
        {
          "output_type": "display_data",
          "data": {
            "image/png": "[encoded data removed]",
            "text/plain": [
              "<Figure size 720x432 with 2 Axes>"
            ]
          },
          "metadata": {
            "tags": [],
            "needs_background": "light"
          }
        },
        {
          "output_type": "display_data",
          "data": {
            "image/png": "[encoded data removed]",
            "text/plain": [
              "<Figure size 720x432 with 2 Axes>"
            ]
          },
          "metadata": {
            "tags": [],
            "needs_background": "light"
          }
        }
      ]
    },
    {
      "cell_type": "code",
      "metadata": {
        "colab": {
          "base_uri": "https://localhost:8080/",
          "height": 282
        },
        "id": "UnxCp_IdaOI4",
        "outputId": "eed3096b-98db-4112-db48-730651c8c34e"
      },
      "source": [
        "\n",
        "df[\"rul\"].plot()"
      ],
      "execution_count": 16,
      "outputs": [
        {
          "output_type": "execute_result",
          "data": {
            "text/plain": [
              "<matplotlib.axes._subplots.AxesSubplot at 0x7f211faf8fd0>"
            ]
          },
          "metadata": {
            "tags": []
          },
          "execution_count": 16
        },
        {
          "output_type": "display_data",
          "data": {
            "image/png": "[encoded data removed]",
            "text/plain": [
              "<Figure size 432x288 with 1 Axes>"
            ]
          },
          "metadata": {
            "tags": [],
            "needs_background": "light"
          }
        }
      ]
    },
    {
      "cell_type": "code",
      "metadata": {
        "colab": {
          "base_uri": "https://localhost:8080/"
        },
        "id": "xnNSuoLPaQVy",
        "outputId": "8e83c535-254a-43cd-9588-1a5f40ddf59c"
      },
      "source": [
        "df.isna().sum()"
      ],
      "execution_count": 17,
      "outputs": [
        {
          "output_type": "execute_result",
          "data": {
            "text/plain": [
              "Time      0\n",
              "vibx      0\n",
              "vibz      0\n",
              "temp      0\n",
              "zacc      0\n",
              "zfreq     0\n",
              "crest     0\n",
              "rul      80\n",
              "dtype: int64"
            ]
          },
          "metadata": {
            "tags": []
          },
          "execution_count": 17
        }
      ]
    },
    {
      "cell_type": "code",
      "metadata": {
        "id": "6ZuitQYBEpYO"
      },
      "source": [
        "label = []\n",
        "for i in df[\"rul\"]:\n",
        "  if i<15:\n",
        "    label.append(1)\n",
        "  else:\n",
        "    label.append(0)\n",
        "df[\"label\"]=label"
      ],
      "execution_count": 18,
      "outputs": []
    },
    {
      "cell_type": "code",
      "metadata": {
        "id": "AUcckydEXgDn"
      },
      "source": [
        "label_window=\"label\""
      ],
      "execution_count": 19,
      "outputs": []
    },
    {
      "cell_type": "code",
      "metadata": {
        "id": "C8FM1byfh4_2"
      },
      "source": [
        "train_df=df[(df[\"Time\"]<=\"2020-10-10\") & (df[\"Time\"]>\"2020-01-01\")]\n",
        "test_df = df[df[\"Time\"]>\"2020-09-15\"]"
      ],
      "execution_count": 205,
      "outputs": []
    },
    {
      "cell_type": "code",
      "metadata": {
        "colab": {
          "base_uri": "https://localhost:8080/",
          "height": 282
        },
        "id": "IZNO9sprkcx6",
        "outputId": "a63a1670-d4c0-416a-f123-b183b78442fa"
      },
      "source": [
        "df[\"label\"].plot()"
      ],
      "execution_count": 206,
      "outputs": [
        {
          "output_type": "execute_result",
          "data": {
            "text/plain": [
              "<matplotlib.axes._subplots.AxesSubplot at 0x7f211e25c290>"
            ]
          },
          "metadata": {
            "tags": []
          },
          "execution_count": 206
        },
        {
          "output_type": "display_data",
          "data": {
            "image/png": "[encoded data removed]",
            "text/plain": [
              "<Figure size 432x288 with 1 Axes>"
            ]
          },
          "metadata": {
            "tags": []
          }
        }
      ]
    },
    {
      "cell_type": "code",
      "metadata": {
        "colab": {
          "base_uri": "https://localhost:8080/",
          "height": 419
        },
        "id": "TIPsZYaSjOEN",
        "outputId": "9ee01dfd-2cbe-4c53-8a1e-9ee0a093f612"
      },
      "source": [
        "train_df"
      ],
      "execution_count": 207,
      "outputs": [
        {
          "output_type": "execute_result",
          "data": {
            "text/html": [
              "<div>\n",
              "<style scoped>\n",
              "    .dataframe tbody tr th:only-of-type {\n",
              "        vertical-align: middle;\n",
              "    }\n",
              "\n",
              "    .dataframe tbody tr th {\n",
              "        vertical-align: top;\n",
              "    }\n",
              "\n",
              "    .dataframe thead th {\n",
              "        text-align: right;\n",
              "    }\n",
              "</style>\n",
              "<table border=\"1\" class=\"dataframe\">\n",
              "  <thead>\n",
              "    <tr style=\"text-align: right;\">\n",
              "      <th></th>\n",
              "      <th>Time</th>\n",
              "      <th>vibx</th>\n",
              "      <th>vibz</th>\n",
              "      <th>temp</th>\n",
              "      <th>zacc</th>\n",
              "      <th>zfreq</th>\n",
              "      <th>crest</th>\n",
              "      <th>rul</th>\n",
              "      <th>label</th>\n",
              "    </tr>\n",
              "  </thead>\n",
              "  <tbody>\n",
              "    <tr>\n",
              "      <th>1</th>\n",
              "      <td>2020-01-03</td>\n",
              "      <td>1.008986</td>\n",
              "      <td>0.982548</td>\n",
              "      <td>29.085213</td>\n",
              "      <td>0.255672</td>\n",
              "      <td>0.064294</td>\n",
              "      <td>4.027926</td>\n",
              "      <td>23.0</td>\n",
              "      <td>0</td>\n",
              "    </tr>\n",
              "    <tr>\n",
              "      <th>2</th>\n",
              "      <td>2020-01-04</td>\n",
              "      <td>0.983633</td>\n",
              "      <td>0.897994</td>\n",
              "      <td>30.191087</td>\n",
              "      <td>0.255289</td>\n",
              "      <td>0.062603</td>\n",
              "      <td>4.134363</td>\n",
              "      <td>22.0</td>\n",
              "      <td>0</td>\n",
              "    </tr>\n",
              "    <tr>\n",
              "      <th>3</th>\n",
              "      <td>2020-01-05</td>\n",
              "      <td>0.605476</td>\n",
              "      <td>0.514866</td>\n",
              "      <td>23.518047</td>\n",
              "      <td>0.158782</td>\n",
              "      <td>0.038718</td>\n",
              "      <td>4.042531</td>\n",
              "      <td>21.0</td>\n",
              "      <td>0</td>\n",
              "    </tr>\n",
              "    <tr>\n",
              "      <th>4</th>\n",
              "      <td>2020-01-06</td>\n",
              "      <td>1.067184</td>\n",
              "      <td>0.924652</td>\n",
              "      <td>29.734194</td>\n",
              "      <td>0.283885</td>\n",
              "      <td>0.067874</td>\n",
              "      <td>4.291912</td>\n",
              "      <td>20.0</td>\n",
              "      <td>0</td>\n",
              "    </tr>\n",
              "    <tr>\n",
              "      <th>5</th>\n",
              "      <td>2020-01-07</td>\n",
              "      <td>1.092764</td>\n",
              "      <td>0.972984</td>\n",
              "      <td>28.866409</td>\n",
              "      <td>0.256283</td>\n",
              "      <td>0.068015</td>\n",
              "      <td>3.870108</td>\n",
              "      <td>19.0</td>\n",
              "      <td>0</td>\n",
              "    </tr>\n",
              "    <tr>\n",
              "      <th>...</th>\n",
              "      <td>...</td>\n",
              "      <td>...</td>\n",
              "      <td>...</td>\n",
              "      <td>...</td>\n",
              "      <td>...</td>\n",
              "      <td>...</td>\n",
              "      <td>...</td>\n",
              "      <td>...</td>\n",
              "      <td>...</td>\n",
              "    </tr>\n",
              "    <tr>\n",
              "      <th>257</th>\n",
              "      <td>2020-10-06</td>\n",
              "      <td>7.727375</td>\n",
              "      <td>5.935324</td>\n",
              "      <td>47.468505</td>\n",
              "      <td>9.328550</td>\n",
              "      <td>1.386177</td>\n",
              "      <td>6.729766</td>\n",
              "      <td>3.0</td>\n",
              "      <td>1</td>\n",
              "    </tr>\n",
              "    <tr>\n",
              "      <th>258</th>\n",
              "      <td>2020-10-07</td>\n",
              "      <td>7.075562</td>\n",
              "      <td>4.883801</td>\n",
              "      <td>48.079850</td>\n",
              "      <td>9.828501</td>\n",
              "      <td>1.422562</td>\n",
              "      <td>6.784731</td>\n",
              "      <td>2.0</td>\n",
              "      <td>1</td>\n",
              "    </tr>\n",
              "    <tr>\n",
              "      <th>259</th>\n",
              "      <td>2020-10-08</td>\n",
              "      <td>7.666629</td>\n",
              "      <td>5.823483</td>\n",
              "      <td>48.645372</td>\n",
              "      <td>9.968416</td>\n",
              "      <td>1.459271</td>\n",
              "      <td>6.820000</td>\n",
              "      <td>1.0</td>\n",
              "      <td>1</td>\n",
              "    </tr>\n",
              "    <tr>\n",
              "      <th>260</th>\n",
              "      <td>2020-10-09</td>\n",
              "      <td>7.570013</td>\n",
              "      <td>4.761209</td>\n",
              "      <td>47.554823</td>\n",
              "      <td>11.921055</td>\n",
              "      <td>1.627877</td>\n",
              "      <td>7.166969</td>\n",
              "      <td>0.0</td>\n",
              "      <td>1</td>\n",
              "    </tr>\n",
              "    <tr>\n",
              "      <th>261</th>\n",
              "      <td>2020-10-10</td>\n",
              "      <td>4.165119</td>\n",
              "      <td>2.500341</td>\n",
              "      <td>45.916776</td>\n",
              "      <td>4.401576</td>\n",
              "      <td>0.628648</td>\n",
              "      <td>6.824733</td>\n",
              "      <td>1.0</td>\n",
              "      <td>1</td>\n",
              "    </tr>\n",
              "  </tbody>\n",
              "</table>\n",
              "<p>261 rows × 9 columns</p>\n",
              "</div>"
            ],
            "text/plain": [
              "          Time      vibx      vibz       temp  ...     zfreq     crest   rul  label\n",
              "1   2020-01-03  1.008986  0.982548  29.085213  ...  0.064294  4.027926  23.0      0\n",
              "2   2020-01-04  0.983633  0.897994  30.191087  ...  0.062603  4.134363  22.0      0\n",
              "3   2020-01-05  0.605476  0.514866  23.518047  ...  0.038718  4.042531  21.0      0\n",
              "4   2020-01-06  1.067184  0.924652  29.734194  ...  0.067874  4.291912  20.0      0\n",
              "5   2020-01-07  1.092764  0.972984  28.866409  ...  0.068015  3.870108  19.0      0\n",
              "..         ...       ...       ...        ...  ...       ...       ...   ...    ...\n",
              "257 2020-10-06  7.727375  5.935324  47.468505  ...  1.386177  6.729766   3.0      1\n",
              "258 2020-10-07  7.075562  4.883801  48.079850  ...  1.422562  6.784731   2.0      1\n",
              "259 2020-10-08  7.666629  5.823483  48.645372  ...  1.459271  6.820000   1.0      1\n",
              "260 2020-10-09  7.570013  4.761209  47.554823  ...  1.627877  7.166969   0.0      1\n",
              "261 2020-10-10  4.165119  2.500341  45.916776  ...  0.628648  6.824733   1.0      1\n",
              "\n",
              "[261 rows x 9 columns]"
            ]
          },
          "metadata": {
            "tags": []
          },
          "execution_count": 207
        }
      ]
    },
    {
      "cell_type": "code",
      "metadata": {
        "id": "CSLh8KGjW5Bl"
      },
      "source": [
        "def pickle_all(key,value):\n",
        "         pickle_out = open(key, \"wb\")\n",
        "         pickle.dump(value, pickle_out)\n",
        "         pickle_out.close()"
      ],
      "execution_count": 208,
      "outputs": []
    },
    {
      "cell_type": "code",
      "metadata": {
        "id": "KELT0LgfYth9"
      },
      "source": [
        "# MinMax normalization (from 0 to 1)\n",
        "import pickle\n",
        "cols_normalize = train_df.columns.difference(['Time','rul',\"label\"])\n",
        "min_max_scaler = preprocessing.MinMaxScaler(feature_range=(0,1))\n",
        "norm_train_df = pd.DataFrame(min_max_scaler.fit_transform(train_df[cols_normalize]), \n",
        "                             columns=cols_normalize, \n",
        "                             index=train_df.index)\n",
        "pickle_all(f\"/content/drive/MyDrive/model_predictive_maintanence/scaler_classification_2_week.pkl\",min_max_scaler)\n",
        "join_df = train_df[train_df.columns.difference(cols_normalize)].join(norm_train_df)\n",
        "train_df = join_df.reindex(columns = train_df.columns)\n",
        "\n",
        "#Test\n",
        "\n",
        "\n",
        "norm_test_df = pd.DataFrame(min_max_scaler.transform(test_df[cols_normalize]), \n",
        "                            columns=cols_normalize, \n",
        "                            index=test_df.index)\n",
        "test_join_df = test_df[test_df.columns.difference(cols_normalize)].join(norm_test_df)\n",
        "test_df = test_join_df.reindex(columns = test_df.columns)\n",
        "test_df = test_df.reset_index(drop=True)"
      ],
      "execution_count": 209,
      "outputs": []
    },
    {
      "cell_type": "code",
      "metadata": {
        "colab": {
          "base_uri": "https://localhost:8080/",
          "height": 419
        },
        "id": "3BwG1niy7tCz",
        "outputId": "a7759fec-cc13-4c9a-8ea0-4245aeaafe94"
      },
      "source": [
        "\n",
        "train_df"
      ],
      "execution_count": 210,
      "outputs": [
        {
          "output_type": "execute_result",
          "data": {
            "text/html": [
              "<div>\n",
              "<style scoped>\n",
              "    .dataframe tbody tr th:only-of-type {\n",
              "        vertical-align: middle;\n",
              "    }\n",
              "\n",
              "    .dataframe tbody tr th {\n",
              "        vertical-align: top;\n",
              "    }\n",
              "\n",
              "    .dataframe thead th {\n",
              "        text-align: right;\n",
              "    }\n",
              "</style>\n",
              "<table border=\"1\" class=\"dataframe\">\n",
              "  <thead>\n",
              "    <tr style=\"text-align: right;\">\n",
              "      <th></th>\n",
              "      <th>Time</th>\n",
              "      <th>vibx</th>\n",
              "      <th>vibz</th>\n",
              "      <th>temp</th>\n",
              "      <th>zacc</th>\n",
              "      <th>zfreq</th>\n",
              "      <th>crest</th>\n",
              "      <th>rul</th>\n",
              "      <th>label</th>\n",
              "    </tr>\n",
              "  </thead>\n",
              "  <tbody>\n",
              "    <tr>\n",
              "      <th>1</th>\n",
              "      <td>2020-01-03</td>\n",
              "      <td>0.106008</td>\n",
              "      <td>0.130624</td>\n",
              "      <td>0.424992</td>\n",
              "      <td>0.018555</td>\n",
              "      <td>0.033561</td>\n",
              "      <td>0.034994</td>\n",
              "      <td>23.0</td>\n",
              "      <td>0</td>\n",
              "    </tr>\n",
              "    <tr>\n",
              "      <th>2</th>\n",
              "      <td>2020-01-04</td>\n",
              "      <td>0.102964</td>\n",
              "      <td>0.117693</td>\n",
              "      <td>0.453587</td>\n",
              "      <td>0.018523</td>\n",
              "      <td>0.032516</td>\n",
              "      <td>0.044803</td>\n",
              "      <td>22.0</td>\n",
              "      <td>0</td>\n",
              "    </tr>\n",
              "    <tr>\n",
              "      <th>3</th>\n",
              "      <td>2020-01-05</td>\n",
              "      <td>0.057559</td>\n",
              "      <td>0.059104</td>\n",
              "      <td>0.281039</td>\n",
              "      <td>0.010403</td>\n",
              "      <td>0.017753</td>\n",
              "      <td>0.036340</td>\n",
              "      <td>21.0</td>\n",
              "      <td>0</td>\n",
              "    </tr>\n",
              "    <tr>\n",
              "      <th>4</th>\n",
              "      <td>2020-01-06</td>\n",
              "      <td>0.112996</td>\n",
              "      <td>0.121770</td>\n",
              "      <td>0.441773</td>\n",
              "      <td>0.020929</td>\n",
              "      <td>0.035774</td>\n",
              "      <td>0.059321</td>\n",
              "      <td>20.0</td>\n",
              "      <td>0</td>\n",
              "    </tr>\n",
              "    <tr>\n",
              "      <th>5</th>\n",
              "      <td>2020-01-07</td>\n",
              "      <td>0.116067</td>\n",
              "      <td>0.129161</td>\n",
              "      <td>0.419334</td>\n",
              "      <td>0.018606</td>\n",
              "      <td>0.035861</td>\n",
              "      <td>0.020451</td>\n",
              "      <td>19.0</td>\n",
              "      <td>0</td>\n",
              "    </tr>\n",
              "    <tr>\n",
              "      <th>...</th>\n",
              "      <td>...</td>\n",
              "      <td>...</td>\n",
              "      <td>...</td>\n",
              "      <td>...</td>\n",
              "      <td>...</td>\n",
              "      <td>...</td>\n",
              "      <td>...</td>\n",
              "      <td>...</td>\n",
              "      <td>...</td>\n",
              "    </tr>\n",
              "    <tr>\n",
              "      <th>257</th>\n",
              "      <td>2020-10-06</td>\n",
              "      <td>0.912675</td>\n",
              "      <td>0.888024</td>\n",
              "      <td>0.900338</td>\n",
              "      <td>0.781884</td>\n",
              "      <td>0.850607</td>\n",
              "      <td>0.283970</td>\n",
              "      <td>3.0</td>\n",
              "      <td>1</td>\n",
              "    </tr>\n",
              "    <tr>\n",
              "      <th>258</th>\n",
              "      <td>2020-10-07</td>\n",
              "      <td>0.834413</td>\n",
              "      <td>0.727220</td>\n",
              "      <td>0.916145</td>\n",
              "      <td>0.823947</td>\n",
              "      <td>0.873097</td>\n",
              "      <td>0.289035</td>\n",
              "      <td>2.0</td>\n",
              "      <td>1</td>\n",
              "    </tr>\n",
              "    <tr>\n",
              "      <th>259</th>\n",
              "      <td>2020-10-08</td>\n",
              "      <td>0.905381</td>\n",
              "      <td>0.870921</td>\n",
              "      <td>0.930768</td>\n",
              "      <td>0.835718</td>\n",
              "      <td>0.895786</td>\n",
              "      <td>0.292285</td>\n",
              "      <td>1.0</td>\n",
              "      <td>1</td>\n",
              "    </tr>\n",
              "    <tr>\n",
              "      <th>260</th>\n",
              "      <td>2020-10-09</td>\n",
              "      <td>0.893781</td>\n",
              "      <td>0.708473</td>\n",
              "      <td>0.902570</td>\n",
              "      <td>1.000000</td>\n",
              "      <td>1.000000</td>\n",
              "      <td>0.324258</td>\n",
              "      <td>0.0</td>\n",
              "      <td>1</td>\n",
              "    </tr>\n",
              "    <tr>\n",
              "      <th>261</th>\n",
              "      <td>2020-10-10</td>\n",
              "      <td>0.484960</td>\n",
              "      <td>0.362731</td>\n",
              "      <td>0.860214</td>\n",
              "      <td>0.367363</td>\n",
              "      <td>0.382384</td>\n",
              "      <td>0.292721</td>\n",
              "      <td>1.0</td>\n",
              "      <td>1</td>\n",
              "    </tr>\n",
              "  </tbody>\n",
              "</table>\n",
              "<p>261 rows × 9 columns</p>\n",
              "</div>"
            ],
            "text/plain": [
              "          Time      vibx      vibz      temp  ...     zfreq     crest   rul  label\n",
              "1   2020-01-03  0.106008  0.130624  0.424992  ...  0.033561  0.034994  23.0      0\n",
              "2   2020-01-04  0.102964  0.117693  0.453587  ...  0.032516  0.044803  22.0      0\n",
              "3   2020-01-05  0.057559  0.059104  0.281039  ...  0.017753  0.036340  21.0      0\n",
              "4   2020-01-06  0.112996  0.121770  0.441773  ...  0.035774  0.059321  20.0      0\n",
              "5   2020-01-07  0.116067  0.129161  0.419334  ...  0.035861  0.020451  19.0      0\n",
              "..         ...       ...       ...       ...  ...       ...       ...   ...    ...\n",
              "257 2020-10-06  0.912675  0.888024  0.900338  ...  0.850607  0.283970   3.0      1\n",
              "258 2020-10-07  0.834413  0.727220  0.916145  ...  0.873097  0.289035   2.0      1\n",
              "259 2020-10-08  0.905381  0.870921  0.930768  ...  0.895786  0.292285   1.0      1\n",
              "260 2020-10-09  0.893781  0.708473  0.902570  ...  1.000000  0.324258   0.0      1\n",
              "261 2020-10-10  0.484960  0.362731  0.860214  ...  0.382384  0.292721   1.0      1\n",
              "\n",
              "[261 rows x 9 columns]"
            ]
          },
          "metadata": {
            "tags": []
          },
          "execution_count": 210
        }
      ]
    },
    {
      "cell_type": "code",
      "metadata": {
        "colab": {
          "base_uri": "https://localhost:8080/",
          "height": 419
        },
        "id": "1KE5mNrIXNWn",
        "outputId": "cc995d86-41c5-4bac-aa3d-2631d4842df2"
      },
      "source": [
        "test_df"
      ],
      "execution_count": 211,
      "outputs": [
        {
          "output_type": "execute_result",
          "data": {
            "text/html": [
              "<div>\n",
              "<style scoped>\n",
              "    .dataframe tbody tr th:only-of-type {\n",
              "        vertical-align: middle;\n",
              "    }\n",
              "\n",
              "    .dataframe tbody tr th {\n",
              "        vertical-align: top;\n",
              "    }\n",
              "\n",
              "    .dataframe thead th {\n",
              "        text-align: right;\n",
              "    }\n",
              "</style>\n",
              "<table border=\"1\" class=\"dataframe\">\n",
              "  <thead>\n",
              "    <tr style=\"text-align: right;\">\n",
              "      <th></th>\n",
              "      <th>Time</th>\n",
              "      <th>vibx</th>\n",
              "      <th>vibz</th>\n",
              "      <th>temp</th>\n",
              "      <th>zacc</th>\n",
              "      <th>zfreq</th>\n",
              "      <th>crest</th>\n",
              "      <th>rul</th>\n",
              "      <th>label</th>\n",
              "    </tr>\n",
              "  </thead>\n",
              "  <tbody>\n",
              "    <tr>\n",
              "      <th>0</th>\n",
              "      <td>2020-09-16</td>\n",
              "      <td>0.495662</td>\n",
              "      <td>0.366465</td>\n",
              "      <td>0.785983</td>\n",
              "      <td>0.150134</td>\n",
              "      <td>0.180839</td>\n",
              "      <td>0.213518</td>\n",
              "      <td>19.0</td>\n",
              "      <td>0</td>\n",
              "    </tr>\n",
              "    <tr>\n",
              "      <th>1</th>\n",
              "      <td>2020-09-17</td>\n",
              "      <td>0.252639</td>\n",
              "      <td>0.177897</td>\n",
              "      <td>0.798940</td>\n",
              "      <td>0.068795</td>\n",
              "      <td>0.089611</td>\n",
              "      <td>0.107818</td>\n",
              "      <td>18.0</td>\n",
              "      <td>0</td>\n",
              "    </tr>\n",
              "    <tr>\n",
              "      <th>2</th>\n",
              "      <td>2020-09-18</td>\n",
              "      <td>0.480359</td>\n",
              "      <td>0.330339</td>\n",
              "      <td>0.790341</td>\n",
              "      <td>0.128925</td>\n",
              "      <td>0.169253</td>\n",
              "      <td>0.173435</td>\n",
              "      <td>17.0</td>\n",
              "      <td>0</td>\n",
              "    </tr>\n",
              "    <tr>\n",
              "      <th>3</th>\n",
              "      <td>2020-09-19</td>\n",
              "      <td>0.381090</td>\n",
              "      <td>0.264525</td>\n",
              "      <td>0.774275</td>\n",
              "      <td>0.107043</td>\n",
              "      <td>0.130621</td>\n",
              "      <td>0.187194</td>\n",
              "      <td>16.0</td>\n",
              "      <td>0</td>\n",
              "    </tr>\n",
              "    <tr>\n",
              "      <th>4</th>\n",
              "      <td>2020-09-20</td>\n",
              "      <td>0.098838</td>\n",
              "      <td>0.068270</td>\n",
              "      <td>0.581057</td>\n",
              "      <td>0.029368</td>\n",
              "      <td>0.037706</td>\n",
              "      <td>0.071577</td>\n",
              "      <td>15.0</td>\n",
              "      <td>0</td>\n",
              "    </tr>\n",
              "    <tr>\n",
              "      <th>...</th>\n",
              "      <td>...</td>\n",
              "      <td>...</td>\n",
              "      <td>...</td>\n",
              "      <td>...</td>\n",
              "      <td>...</td>\n",
              "      <td>...</td>\n",
              "      <td>...</td>\n",
              "      <td>...</td>\n",
              "      <td>...</td>\n",
              "    </tr>\n",
              "    <tr>\n",
              "      <th>121</th>\n",
              "      <td>2021-01-18</td>\n",
              "      <td>0.201619</td>\n",
              "      <td>0.185885</td>\n",
              "      <td>0.571254</td>\n",
              "      <td>0.060555</td>\n",
              "      <td>0.082495</td>\n",
              "      <td>0.144781</td>\n",
              "      <td>NaN</td>\n",
              "      <td>0</td>\n",
              "    </tr>\n",
              "    <tr>\n",
              "      <th>122</th>\n",
              "      <td>2021-01-19</td>\n",
              "      <td>0.208724</td>\n",
              "      <td>0.192046</td>\n",
              "      <td>0.493021</td>\n",
              "      <td>0.066242</td>\n",
              "      <td>0.086911</td>\n",
              "      <td>0.166536</td>\n",
              "      <td>NaN</td>\n",
              "      <td>0</td>\n",
              "    </tr>\n",
              "    <tr>\n",
              "      <th>123</th>\n",
              "      <td>2021-01-20</td>\n",
              "      <td>0.183335</td>\n",
              "      <td>0.168222</td>\n",
              "      <td>0.543141</td>\n",
              "      <td>0.053706</td>\n",
              "      <td>0.075315</td>\n",
              "      <td>0.138035</td>\n",
              "      <td>NaN</td>\n",
              "      <td>0</td>\n",
              "    </tr>\n",
              "    <tr>\n",
              "      <th>124</th>\n",
              "      <td>2021-01-21</td>\n",
              "      <td>0.173680</td>\n",
              "      <td>0.160227</td>\n",
              "      <td>0.621245</td>\n",
              "      <td>0.049348</td>\n",
              "      <td>0.070120</td>\n",
              "      <td>0.128728</td>\n",
              "      <td>NaN</td>\n",
              "      <td>0</td>\n",
              "    </tr>\n",
              "    <tr>\n",
              "      <th>125</th>\n",
              "      <td>2021-01-22</td>\n",
              "      <td>0.182955</td>\n",
              "      <td>0.170249</td>\n",
              "      <td>0.662235</td>\n",
              "      <td>0.051732</td>\n",
              "      <td>0.074346</td>\n",
              "      <td>0.128197</td>\n",
              "      <td>NaN</td>\n",
              "      <td>0</td>\n",
              "    </tr>\n",
              "  </tbody>\n",
              "</table>\n",
              "<p>126 rows × 9 columns</p>\n",
              "</div>"
            ],
            "text/plain": [
              "          Time      vibx      vibz      temp  ...     zfreq     crest   rul  label\n",
              "0   2020-09-16  0.495662  0.366465  0.785983  ...  0.180839  0.213518  19.0      0\n",
              "1   2020-09-17  0.252639  0.177897  0.798940  ...  0.089611  0.107818  18.0      0\n",
              "2   2020-09-18  0.480359  0.330339  0.790341  ...  0.169253  0.173435  17.0      0\n",
              "3   2020-09-19  0.381090  0.264525  0.774275  ...  0.130621  0.187194  16.0      0\n",
              "4   2020-09-20  0.098838  0.068270  0.581057  ...  0.037706  0.071577  15.0      0\n",
              "..         ...       ...       ...       ...  ...       ...       ...   ...    ...\n",
              "121 2021-01-18  0.201619  0.185885  0.571254  ...  0.082495  0.144781   NaN      0\n",
              "122 2021-01-19  0.208724  0.192046  0.493021  ...  0.086911  0.166536   NaN      0\n",
              "123 2021-01-20  0.183335  0.168222  0.543141  ...  0.075315  0.138035   NaN      0\n",
              "124 2021-01-21  0.173680  0.160227  0.621245  ...  0.070120  0.128728   NaN      0\n",
              "125 2021-01-22  0.182955  0.170249  0.662235  ...  0.074346  0.128197   NaN      0\n",
              "\n",
              "[126 rows x 9 columns]"
            ]
          },
          "metadata": {
            "tags": []
          },
          "execution_count": 211
        }
      ]
    },
    {
      "cell_type": "code",
      "metadata": {
        "colab": {
          "base_uri": "https://localhost:8080/"
        },
        "id": "M1yzRNf88_DY",
        "outputId": "98731e22-0238-4f9f-cb39-a74d2157c3a8"
      },
      "source": [
        "# pick  window size \n",
        "sequence_length =15\n",
        "\n",
        "# function to reshape features into (samples, time steps, features)\n",
        "\n",
        "def gen_sequence(id_df, seq_length, seq_cols):\n",
        "    \"\"\" Only sequences that meet the window-length are considered, no padding is used. This means for testing\n",
        "    we need to drop those which are below the window-length. An alternative would be to pad sequences so that\n",
        "    we can use shorter ones \"\"\"\n",
        "    # for one id I put all the rows in a single matrix\n",
        "    data_matrix = id_df[seq_cols].values\n",
        "    num_elements = data_matrix.shape[0]\n",
        "    # Iterate over two lists in parallel.\n",
        "    # For example id1 have 192 rows and sequence_length is equal to 50\n",
        "    # so zip iterate over two following list of numbers (0,112),(50,192)\n",
        "    # 0 50 -> from row 0 to row 50\n",
        "    # 1 51 -> from row 1 to row 51\n",
        "    # 2 52 -> from row 2 to row 52\n",
        "    # ...\n",
        "    # 111 191 -> from row 111 to 191\n",
        "    for start, stop in zip(range(0, num_elements-seq_length), range(seq_length, num_elements)):\n",
        "        yield data_matrix[start:stop, :]\n",
        "        \n",
        "# pick the feature columns \n",
        "sequence_cols=train_df.columns.difference(['Time','rul',\"label\",])\n",
        "\n",
        "# generator for the sequences\n",
        "#seq_gen=(list(gen_sequence(train_df[train_df.index==id], sequence_length, sequence_cols))  for id in train_df.index)\n",
        "seq_gen = list(list(gen_sequence(train_df, sequence_length, sequence_cols)))\n",
        "           \n",
        "\n",
        "# generate sequences and convert to numpy array\n",
        "seq_array = np.concatenate(list(seq_gen)).astype(np.float32)\n",
        "    \n",
        "seq_array=np.reshape(seq_array, (len(seq_gen),sequence_length,len(sequence_cols)))\n",
        "print(seq_array.shape)\n"
      ],
      "execution_count": 223,
      "outputs": [
        {
          "output_type": "stream",
          "text": [
            "(246, 15, 6)\n"
          ],
          "name": "stdout"
        }
      ]
    },
    {
      "cell_type": "code",
      "metadata": {
        "colab": {
          "base_uri": "https://localhost:8080/",
          "height": 419
        },
        "id": "2apuGn6WpHYL",
        "outputId": "ce6bf83b-927e-4c91-c696-c751359e8949"
      },
      "source": [
        "train_df"
      ],
      "execution_count": 224,
      "outputs": [
        {
          "output_type": "execute_result",
          "data": {
            "text/html": [
              "<div>\n",
              "<style scoped>\n",
              "    .dataframe tbody tr th:only-of-type {\n",
              "        vertical-align: middle;\n",
              "    }\n",
              "\n",
              "    .dataframe tbody tr th {\n",
              "        vertical-align: top;\n",
              "    }\n",
              "\n",
              "    .dataframe thead th {\n",
              "        text-align: right;\n",
              "    }\n",
              "</style>\n",
              "<table border=\"1\" class=\"dataframe\">\n",
              "  <thead>\n",
              "    <tr style=\"text-align: right;\">\n",
              "      <th></th>\n",
              "      <th>Time</th>\n",
              "      <th>vibx</th>\n",
              "      <th>vibz</th>\n",
              "      <th>temp</th>\n",
              "      <th>zacc</th>\n",
              "      <th>zfreq</th>\n",
              "      <th>crest</th>\n",
              "      <th>rul</th>\n",
              "      <th>label</th>\n",
              "    </tr>\n",
              "  </thead>\n",
              "  <tbody>\n",
              "    <tr>\n",
              "      <th>1</th>\n",
              "      <td>2020-01-03</td>\n",
              "      <td>0.106008</td>\n",
              "      <td>0.130624</td>\n",
              "      <td>0.424992</td>\n",
              "      <td>0.018555</td>\n",
              "      <td>0.033561</td>\n",
              "      <td>0.034994</td>\n",
              "      <td>23.0</td>\n",
              "      <td>0</td>\n",
              "    </tr>\n",
              "    <tr>\n",
              "      <th>2</th>\n",
              "      <td>2020-01-04</td>\n",
              "      <td>0.102964</td>\n",
              "      <td>0.117693</td>\n",
              "      <td>0.453587</td>\n",
              "      <td>0.018523</td>\n",
              "      <td>0.032516</td>\n",
              "      <td>0.044803</td>\n",
              "      <td>22.0</td>\n",
              "      <td>0</td>\n",
              "    </tr>\n",
              "    <tr>\n",
              "      <th>3</th>\n",
              "      <td>2020-01-05</td>\n",
              "      <td>0.057559</td>\n",
              "      <td>0.059104</td>\n",
              "      <td>0.281039</td>\n",
              "      <td>0.010403</td>\n",
              "      <td>0.017753</td>\n",
              "      <td>0.036340</td>\n",
              "      <td>21.0</td>\n",
              "      <td>0</td>\n",
              "    </tr>\n",
              "    <tr>\n",
              "      <th>4</th>\n",
              "      <td>2020-01-06</td>\n",
              "      <td>0.112996</td>\n",
              "      <td>0.121770</td>\n",
              "      <td>0.441773</td>\n",
              "      <td>0.020929</td>\n",
              "      <td>0.035774</td>\n",
              "      <td>0.059321</td>\n",
              "      <td>20.0</td>\n",
              "      <td>0</td>\n",
              "    </tr>\n",
              "    <tr>\n",
              "      <th>5</th>\n",
              "      <td>2020-01-07</td>\n",
              "      <td>0.116067</td>\n",
              "      <td>0.129161</td>\n",
              "      <td>0.419334</td>\n",
              "      <td>0.018606</td>\n",
              "      <td>0.035861</td>\n",
              "      <td>0.020451</td>\n",
              "      <td>19.0</td>\n",
              "      <td>0</td>\n",
              "    </tr>\n",
              "    <tr>\n",
              "      <th>...</th>\n",
              "      <td>...</td>\n",
              "      <td>...</td>\n",
              "      <td>...</td>\n",
              "      <td>...</td>\n",
              "      <td>...</td>\n",
              "      <td>...</td>\n",
              "      <td>...</td>\n",
              "      <td>...</td>\n",
              "      <td>...</td>\n",
              "    </tr>\n",
              "    <tr>\n",
              "      <th>257</th>\n",
              "      <td>2020-10-06</td>\n",
              "      <td>0.912675</td>\n",
              "      <td>0.888024</td>\n",
              "      <td>0.900338</td>\n",
              "      <td>0.781884</td>\n",
              "      <td>0.850607</td>\n",
              "      <td>0.283970</td>\n",
              "      <td>3.0</td>\n",
              "      <td>1</td>\n",
              "    </tr>\n",
              "    <tr>\n",
              "      <th>258</th>\n",
              "      <td>2020-10-07</td>\n",
              "      <td>0.834413</td>\n",
              "      <td>0.727220</td>\n",
              "      <td>0.916145</td>\n",
              "      <td>0.823947</td>\n",
              "      <td>0.873097</td>\n",
              "      <td>0.289035</td>\n",
              "      <td>2.0</td>\n",
              "      <td>1</td>\n",
              "    </tr>\n",
              "    <tr>\n",
              "      <th>259</th>\n",
              "      <td>2020-10-08</td>\n",
              "      <td>0.905381</td>\n",
              "      <td>0.870921</td>\n",
              "      <td>0.930768</td>\n",
              "      <td>0.835718</td>\n",
              "      <td>0.895786</td>\n",
              "      <td>0.292285</td>\n",
              "      <td>1.0</td>\n",
              "      <td>1</td>\n",
              "    </tr>\n",
              "    <tr>\n",
              "      <th>260</th>\n",
              "      <td>2020-10-09</td>\n",
              "      <td>0.893781</td>\n",
              "      <td>0.708473</td>\n",
              "      <td>0.902570</td>\n",
              "      <td>1.000000</td>\n",
              "      <td>1.000000</td>\n",
              "      <td>0.324258</td>\n",
              "      <td>0.0</td>\n",
              "      <td>1</td>\n",
              "    </tr>\n",
              "    <tr>\n",
              "      <th>261</th>\n",
              "      <td>2020-10-10</td>\n",
              "      <td>0.484960</td>\n",
              "      <td>0.362731</td>\n",
              "      <td>0.860214</td>\n",
              "      <td>0.367363</td>\n",
              "      <td>0.382384</td>\n",
              "      <td>0.292721</td>\n",
              "      <td>1.0</td>\n",
              "      <td>1</td>\n",
              "    </tr>\n",
              "  </tbody>\n",
              "</table>\n",
              "<p>261 rows × 9 columns</p>\n",
              "</div>"
            ],
            "text/plain": [
              "          Time      vibx      vibz      temp  ...     zfreq     crest   rul  label\n",
              "1   2020-01-03  0.106008  0.130624  0.424992  ...  0.033561  0.034994  23.0      0\n",
              "2   2020-01-04  0.102964  0.117693  0.453587  ...  0.032516  0.044803  22.0      0\n",
              "3   2020-01-05  0.057559  0.059104  0.281039  ...  0.017753  0.036340  21.0      0\n",
              "4   2020-01-06  0.112996  0.121770  0.441773  ...  0.035774  0.059321  20.0      0\n",
              "5   2020-01-07  0.116067  0.129161  0.419334  ...  0.035861  0.020451  19.0      0\n",
              "..         ...       ...       ...       ...  ...       ...       ...   ...    ...\n",
              "257 2020-10-06  0.912675  0.888024  0.900338  ...  0.850607  0.283970   3.0      1\n",
              "258 2020-10-07  0.834413  0.727220  0.916145  ...  0.873097  0.289035   2.0      1\n",
              "259 2020-10-08  0.905381  0.870921  0.930768  ...  0.895786  0.292285   1.0      1\n",
              "260 2020-10-09  0.893781  0.708473  0.902570  ...  1.000000  0.324258   0.0      1\n",
              "261 2020-10-10  0.484960  0.362731  0.860214  ...  0.382384  0.292721   1.0      1\n",
              "\n",
              "[261 rows x 9 columns]"
            ]
          },
          "metadata": {
            "tags": []
          },
          "execution_count": 224
        }
      ]
    },
    {
      "cell_type": "code",
      "metadata": {
        "colab": {
          "base_uri": "https://localhost:8080/"
        },
        "id": "539Swsv3ATAr",
        "outputId": "2c5a5d8d-a6d9-4199-c460-4e94d4cb8435"
      },
      "source": [
        "# function to generate labels\n",
        "def gen_labels(id_df, seq_length, label):\n",
        "    # For one id I put all the labels in a single matrix.\n",
        "    # For example:\n",
        "    # [[1]\n",
        "    # [4]\n",
        "    # [1]\n",
        "    # [5]\n",
        "    # [9]\n",
        "    # ...\n",
        "    # [200]] \n",
        "    data_matrix = id_df[label].values\n",
        "    num_elements = data_matrix.shape[0]\n",
        "    # I have to remove the first seq_length labels\n",
        "    # because for one id the first sequence of seq_length size have as target\n",
        "    # the last label (the previus ones are discarded).\n",
        "    # All the next id's sequences will have associated step by step one label as target. \n",
        "    return data_matrix[seq_length:num_elements, :]\n",
        "\n",
        "# generate labels\n",
        "label_gen = [gen_labels(train_df, sequence_length, ['label'])]\n",
        "label_array = np.concatenate(label_gen).astype(np.float32)\n",
        "print(label_array.shape)"
      ],
      "execution_count": 225,
      "outputs": [
        {
          "output_type": "stream",
          "text": [
            "(246, 1)\n"
          ],
          "name": "stdout"
        }
      ]
    },
    {
      "cell_type": "code",
      "metadata": {
        "id": "F_02o2qKLowK"
      },
      "source": [
        "model_path_label1 = \"/content/drive/MyDrive/model_predictive_maintanence/classification_label_2_week_model.h5\"\n"
      ],
      "execution_count": 226,
      "outputs": []
    },
    {
      "cell_type": "code",
      "metadata": {
        "colab": {
          "base_uri": "https://localhost:8080/"
        },
        "id": "EUci-UfKAu72",
        "outputId": "6a8cd722-c9a9-465a-e119-e1cb36758e0a"
      },
      "source": [
        "# Next, we build a deep network. \n",
        "# The first layer is an LSTM layer with 100 units followed by another LSTM layer with 50 units. \n",
        "# Dropout is also applied after each LSTM layer to control overfitting. \n",
        "# Final layer is a Dense output layer with single unit and sigmoid activation since this is a binary classification problem.\n",
        "# build the network\n",
        "\n",
        "nb_features = seq_array.shape[2]\n",
        "nb_out = label_array.shape[1]\n",
        "\n",
        "model = Sequential()\n",
        "\n",
        "model.add(LSTM(\n",
        "         input_shape=(sequence_length, nb_features),\n",
        "         units=100,\n",
        "         return_sequences=True))\n",
        "model.add(Dropout(0.2))\n",
        "\n",
        "model.add(LSTM(\n",
        "          units=50,\n",
        "          return_sequences=False))\n",
        "model.add(Dropout(0.2))\n",
        "\n",
        "model.add(Dense(units=nb_out, activation='sigmoid'))\n",
        "model.compile(loss='binary_crossentropy', optimizer='adam', metrics=['accuracy'])\n",
        "\n",
        "print(model.summary())\n",
        "\n",
        "# fit the network\n",
        "history = model.fit(seq_array, label_array, epochs=50, batch_size=10, validation_split=0.0005, verbose=2)\n",
        "model.save(model_path_label1)\n",
        "# list all data in history\n",
        "print(history.history.keys())"
      ],
      "execution_count": 227,
      "outputs": [
        {
          "output_type": "stream",
          "text": [
            "Model: \"sequential_12\"\n",
            "_________________________________________________________________\n",
            "Layer (type)                 Output Shape              Param #   \n",
            "=================================================================\n",
            "lstm_24 (LSTM)               (None, 15, 100)           42800     \n",
            "_________________________________________________________________\n",
            "dropout_24 (Dropout)         (None, 15, 100)           0         \n",
            "_________________________________________________________________\n",
            "lstm_25 (LSTM)               (None, 50)                30200     \n",
            "_________________________________________________________________\n",
            "dropout_25 (Dropout)         (None, 50)                0         \n",
            "_________________________________________________________________\n",
            "dense_12 (Dense)             (None, 1)                 51        \n",
            "=================================================================\n",
            "Total params: 73,051\n",
            "Trainable params: 73,051\n",
            "Non-trainable params: 0\n",
            "_________________________________________________________________\n",
            "None\n",
            "Epoch 1/50\n",
            "25/25 - 4s - loss: 0.5654 - accuracy: 0.8204 - val_loss: 0.5943 - val_accuracy: 1.0000\n",
            "Epoch 2/50\n",
            "25/25 - 0s - loss: 0.4020 - accuracy: 0.8531 - val_loss: 0.0643 - val_accuracy: 1.0000\n",
            "Epoch 3/50\n",
            "25/25 - 0s - loss: 0.2851 - accuracy: 0.9102 - val_loss: 0.0261 - val_accuracy: 1.0000\n",
            "Epoch 4/50\n",
            "25/25 - 0s - loss: 0.2746 - accuracy: 0.9184 - val_loss: 0.0159 - val_accuracy: 1.0000\n",
            "Epoch 5/50\n",
            "25/25 - 0s - loss: 0.2598 - accuracy: 0.9184 - val_loss: 0.0080 - val_accuracy: 1.0000\n",
            "Epoch 6/50\n",
            "25/25 - 0s - loss: 0.2670 - accuracy: 0.9143 - val_loss: 0.0070 - val_accuracy: 1.0000\n",
            "Epoch 7/50\n",
            "25/25 - 0s - loss: 0.2633 - accuracy: 0.9184 - val_loss: 0.0081 - val_accuracy: 1.0000\n",
            "Epoch 8/50\n",
            "25/25 - 0s - loss: 0.2465 - accuracy: 0.9265 - val_loss: 0.0070 - val_accuracy: 1.0000\n",
            "Epoch 9/50\n",
            "25/25 - 0s - loss: 0.2114 - accuracy: 0.9306 - val_loss: 0.0062 - val_accuracy: 1.0000\n",
            "Epoch 10/50\n",
            "25/25 - 0s - loss: 0.2139 - accuracy: 0.9184 - val_loss: 0.0053 - val_accuracy: 1.0000\n",
            "Epoch 11/50\n",
            "25/25 - 0s - loss: 0.2125 - accuracy: 0.9388 - val_loss: 0.0034 - val_accuracy: 1.0000\n",
            "Epoch 12/50\n",
            "25/25 - 0s - loss: 0.1985 - accuracy: 0.9184 - val_loss: 0.0042 - val_accuracy: 1.0000\n",
            "Epoch 13/50\n",
            "25/25 - 0s - loss: 0.2005 - accuracy: 0.9347 - val_loss: 0.0036 - val_accuracy: 1.0000\n",
            "Epoch 14/50\n",
            "25/25 - 0s - loss: 0.1805 - accuracy: 0.9265 - val_loss: 0.0046 - val_accuracy: 1.0000\n",
            "Epoch 15/50\n",
            "25/25 - 0s - loss: 0.1659 - accuracy: 0.9265 - val_loss: 0.0031 - val_accuracy: 1.0000\n",
            "Epoch 16/50\n",
            "25/25 - 0s - loss: 0.1846 - accuracy: 0.9265 - val_loss: 0.0027 - val_accuracy: 1.0000\n",
            "Epoch 17/50\n",
            "25/25 - 0s - loss: 0.1371 - accuracy: 0.9347 - val_loss: 0.0024 - val_accuracy: 1.0000\n",
            "Epoch 18/50\n",
            "25/25 - 0s - loss: 0.1527 - accuracy: 0.9347 - val_loss: 0.0027 - val_accuracy: 1.0000\n",
            "Epoch 19/50\n",
            "25/25 - 0s - loss: 0.1934 - accuracy: 0.9347 - val_loss: 0.0021 - val_accuracy: 1.0000\n",
            "Epoch 20/50\n",
            "25/25 - 0s - loss: 0.1870 - accuracy: 0.9265 - val_loss: 0.0022 - val_accuracy: 1.0000\n",
            "Epoch 21/50\n",
            "25/25 - 0s - loss: 0.1710 - accuracy: 0.9306 - val_loss: 0.0028 - val_accuracy: 1.0000\n",
            "Epoch 22/50\n",
            "25/25 - 0s - loss: 0.1551 - accuracy: 0.9306 - val_loss: 0.0033 - val_accuracy: 1.0000\n",
            "Epoch 23/50\n",
            "25/25 - 0s - loss: 0.1758 - accuracy: 0.9184 - val_loss: 0.0045 - val_accuracy: 1.0000\n",
            "Epoch 24/50\n",
            "25/25 - 0s - loss: 0.1488 - accuracy: 0.9388 - val_loss: 0.0030 - val_accuracy: 1.0000\n",
            "Epoch 25/50\n",
            "25/25 - 0s - loss: 0.1416 - accuracy: 0.9388 - val_loss: 0.0023 - val_accuracy: 1.0000\n",
            "Epoch 26/50\n",
            "25/25 - 0s - loss: 0.1995 - accuracy: 0.9184 - val_loss: 0.0029 - val_accuracy: 1.0000\n",
            "Epoch 27/50\n",
            "25/25 - 0s - loss: 0.1731 - accuracy: 0.9224 - val_loss: 0.0026 - val_accuracy: 1.0000\n",
            "Epoch 28/50\n",
            "25/25 - 0s - loss: 0.1342 - accuracy: 0.9265 - val_loss: 0.0021 - val_accuracy: 1.0000\n",
            "Epoch 29/50\n",
            "25/25 - 0s - loss: 0.1540 - accuracy: 0.9265 - val_loss: 0.0015 - val_accuracy: 1.0000\n",
            "Epoch 30/50\n",
            "25/25 - 0s - loss: 0.1433 - accuracy: 0.9388 - val_loss: 0.0027 - val_accuracy: 1.0000\n",
            "Epoch 31/50\n",
            "25/25 - 0s - loss: 0.1205 - accuracy: 0.9429 - val_loss: 0.0020 - val_accuracy: 1.0000\n",
            "Epoch 32/50\n",
            "25/25 - 0s - loss: 0.1247 - accuracy: 0.9388 - val_loss: 0.0024 - val_accuracy: 1.0000\n",
            "Epoch 33/50\n",
            "25/25 - 0s - loss: 0.1317 - accuracy: 0.9429 - val_loss: 0.0022 - val_accuracy: 1.0000\n",
            "Epoch 34/50\n",
            "25/25 - 0s - loss: 0.1155 - accuracy: 0.9429 - val_loss: 0.0019 - val_accuracy: 1.0000\n",
            "Epoch 35/50\n",
            "25/25 - 0s - loss: 0.1125 - accuracy: 0.9388 - val_loss: 0.0019 - val_accuracy: 1.0000\n",
            "Epoch 36/50\n",
            "25/25 - 0s - loss: 0.0967 - accuracy: 0.9673 - val_loss: 0.0016 - val_accuracy: 1.0000\n",
            "Epoch 37/50\n",
            "25/25 - 0s - loss: 0.1103 - accuracy: 0.9429 - val_loss: 0.0014 - val_accuracy: 1.0000\n",
            "Epoch 38/50\n",
            "25/25 - 0s - loss: 0.0937 - accuracy: 0.9551 - val_loss: 0.0012 - val_accuracy: 1.0000\n",
            "Epoch 39/50\n",
            "25/25 - 0s - loss: 0.1918 - accuracy: 0.9061 - val_loss: 9.4650e-04 - val_accuracy: 1.0000\n",
            "Epoch 40/50\n",
            "25/25 - 0s - loss: 0.1606 - accuracy: 0.9429 - val_loss: 0.0044 - val_accuracy: 1.0000\n",
            "Epoch 41/50\n",
            "25/25 - 0s - loss: 0.1009 - accuracy: 0.9510 - val_loss: 0.0035 - val_accuracy: 1.0000\n",
            "Epoch 42/50\n",
            "25/25 - 0s - loss: 0.1555 - accuracy: 0.9184 - val_loss: 0.0015 - val_accuracy: 1.0000\n",
            "Epoch 43/50\n",
            "25/25 - 0s - loss: 0.0961 - accuracy: 0.9633 - val_loss: 0.0012 - val_accuracy: 1.0000\n",
            "Epoch 44/50\n",
            "25/25 - 0s - loss: 0.0915 - accuracy: 0.9633 - val_loss: 0.0012 - val_accuracy: 1.0000\n",
            "Epoch 45/50\n",
            "25/25 - 0s - loss: 0.1015 - accuracy: 0.9469 - val_loss: 9.6289e-04 - val_accuracy: 1.0000\n",
            "Epoch 46/50\n",
            "25/25 - 0s - loss: 0.1357 - accuracy: 0.9429 - val_loss: 0.0010 - val_accuracy: 1.0000\n",
            "Epoch 47/50\n",
            "25/25 - 0s - loss: 0.0989 - accuracy: 0.9510 - val_loss: 9.9721e-04 - val_accuracy: 1.0000\n",
            "Epoch 48/50\n",
            "25/25 - 0s - loss: 0.1222 - accuracy: 0.9510 - val_loss: 0.0017 - val_accuracy: 1.0000\n",
            "Epoch 49/50\n",
            "25/25 - 0s - loss: 0.0839 - accuracy: 0.9673 - val_loss: 0.0013 - val_accuracy: 1.0000\n",
            "Epoch 50/50\n",
            "25/25 - 0s - loss: 0.0707 - accuracy: 0.9755 - val_loss: 0.0010 - val_accuracy: 1.0000\n",
            "dict_keys(['loss', 'accuracy', 'val_loss', 'val_accuracy'])\n"
          ],
          "name": "stdout"
        }
      ]
    },
    {
      "cell_type": "code",
      "metadata": {
        "colab": {
          "base_uri": "https://localhost:8080/",
          "height": 1000
        },
        "id": "0fzLNYEnDgO_",
        "outputId": "eaa0edac-9c1a-48aa-e2c9-4175dfde8d47"
      },
      "source": [
        "# summarize history for Accuracy\n",
        "fig_acc = plt.figure(figsize=(10, 10))\n",
        "plt.plot(history.history['accuracy'])\n",
        "#plt.plot(history.history['val_accuracy'])\n",
        "plt.title('model accuracy')\n",
        "plt.ylabel('accuracy')\n",
        "plt.xlabel('epoch')\n",
        "plt.legend(['train', 'test'], loc='upper left')\n",
        "plt.show()\n",
        "fig_acc.savefig(\"model_accuracy.png\")\n",
        "\n",
        "# summarize history for Loss\n",
        "fig_acc = plt.figure(figsize=(10, 10))\n",
        "plt.plot(history.history['loss'])\n",
        "#plt.plot(history.history['val_loss'])\n",
        "plt.title('model loss')\n",
        "plt.ylabel('loss')\n",
        "plt.xlabel('epoch')\n",
        "plt.legend(['train', 'test'], loc='upper left')\n",
        "plt.show()\n",
        "fig_acc.savefig(\"model_loss.png\")\n",
        "\n",
        "# training metrics\n",
        "scores = model.evaluate(seq_array, label_array, verbose=1, batch_size=200)\n",
        "print('Accurracy: {}'.format(scores[1]))\n",
        "\n",
        "# make predictions and compute confusion matrix\n",
        "y_pred = model.predict_classes(seq_array,verbose=1, batch_size=10)\n",
        "y_true = label_array\n",
        "\n",
        "test_set = pd.DataFrame(y_pred)\n",
        "test_set.to_csv('binary_submit_train.csv', index = None)\n",
        "\n",
        "print('Confusion matrix\\n- x-axis is true labels.\\n- y-axis is predicted labels')\n",
        "cm = confusion_matrix(y_true, y_pred)\n",
        "print(cm)\n",
        "\n",
        "# compute precision and recall\n",
        "print(\"Precision:\",precision_score(y_true, y_pred, average=None)) \n",
        "recall = recall_score(y_true, y_pred, average=None)\n",
        "print(  'recall = ', recall)"
      ],
      "execution_count": 228,
      "outputs": [
        {
          "output_type": "display_data",
          "data": {
            "image/png": "[encoded data removed]",
            "text/plain": [
              "<Figure size 720x720 with 1 Axes>"
            ]
          },
          "metadata": {
            "tags": []
          }
        },
        {
          "output_type": "display_data",
          "data": {
            "image/png": "[encoded data removed]",
            "text/plain": [
              "<Figure size 720x720 with 1 Axes>"
            ]
          },
          "metadata": {
            "tags": []
          }
        },
        {
          "output_type": "stream",
          "text": [
            "2/2 [==============================] - 0s 14ms/step - loss: 0.0592 - accuracy: 0.9797\n",
            "Accurracy: 0.9796748161315918\n"
          ],
          "name": "stdout"
        },
        {
          "output_type": "stream",
          "text": [
            "/usr/local/lib/python3.7/dist-packages/tensorflow/python/keras/engine/sequential.py:450: UserWarning: `model.predict_classes()` is deprecated and will be removed after 2021-01-01. Please use instead:* `np.argmax(model.predict(x), axis=-1)`,   if your model does multi-class classification   (e.g. if it uses a `softmax` last-layer activation).* `(model.predict(x) > 0.5).astype(\"int32\")`,   if your model does binary classification   (e.g. if it uses a `sigmoid` last-layer activation).\n",
            "  warnings.warn('`model.predict_classes()` is deprecated and '\n"
          ],
          "name": "stderr"
        },
        {
          "output_type": "stream",
          "text": [
            "25/25 [==============================] - 1s 4ms/step\n",
            "Confusion matrix\n",
            "- x-axis is true labels.\n",
            "- y-axis is predicted labels\n",
            "[[198   4]\n",
            " [  1  43]]\n",
            "Precision: [0.99497487 0.91489362]\n",
            "recall =  [0.98019802 0.97727273]\n"
          ],
          "name": "stdout"
        }
      ]
    },
    {
      "cell_type": "code",
      "metadata": {
        "colab": {
          "base_uri": "https://localhost:8080/",
          "height": 1000
        },
        "id": "d0afDlkHzCLI",
        "outputId": "3ea6dc66-05de-4116-9989-69f0531b4159"
      },
      "source": [
        "# summarize history for Accuracy\n",
        "fig_acc = plt.figure(figsize=(10, 10))\n",
        "plt.plot(history.history['accuracy'])\n",
        "#plt.plot(history.history['val_accuracy'])\n",
        "plt.title('model accuracy')\n",
        "plt.ylabel('accuracy')\n",
        "plt.xlabel('epoch')\n",
        "plt.legend(['train', 'test'], loc='upper left')\n",
        "plt.show()\n",
        "fig_acc.savefig(\"model_accuracy.png\")\n",
        "\n",
        "# summarize history for Loss\n",
        "fig_acc = plt.figure(figsize=(10, 10))\n",
        "plt.plot(history.history['loss'])\n",
        "#plt.plot(history.history['val_loss'])\n",
        "plt.title('model loss')\n",
        "plt.ylabel('loss')\n",
        "plt.xlabel('epoch')\n",
        "plt.legend(['train', 'test'], loc='upper left')\n",
        "plt.show()\n",
        "fig_acc.savefig(\"model_loss.png\")\n",
        "\n",
        "# training metrics\n",
        "scores = model.evaluate(seq_array, label_array, verbose=1, batch_size=200)\n",
        "print('Accurracy: {}'.format(scores[1]))\n",
        "\n",
        "# make predictions and compute confusion matrix\n",
        "y_pred = model.predict_classes(seq_array,verbose=1, batch_size=10)\n",
        "y_true = label_array\n",
        "\n",
        "test_set = pd.DataFrame(y_pred)\n",
        "test_set.to_csv('binary_submit_train.csv', index = None)\n",
        "\n",
        "print('Confusion matrix\\n- x-axis is true labels.\\n- y-axis is predicted labels')\n",
        "cm = confusion_matrix(y_true, y_pred)\n",
        "print(cm)\n",
        "\n",
        "# compute precision and recall\n",
        "print(\"Precision:\",precision_score(y_true, y_pred, average=None)) \n",
        "recall = recall_score(y_true, y_pred, average=None)\n",
        "print(  'recall = ', recall)"
      ],
      "execution_count": 229,
      "outputs": [
        {
          "output_type": "display_data",
          "data": {
            "image/png": "[encoded data removed]",
            "text/plain": [
              "<Figure size 720x720 with 1 Axes>"
            ]
          },
          "metadata": {
            "tags": []
          }
        },
        {
          "output_type": "display_data",
          "data": {
            "image/png": "[encoded data removed]",
            "text/plain": [
              "<Figure size 720x720 with 1 Axes>"
            ]
          },
          "metadata": {
            "tags": []
          }
        },
        {
          "output_type": "stream",
          "text": [
            "2/2 [==============================] - 0s 12ms/step - loss: 0.0592 - accuracy: 0.9797\n",
            "Accurracy: 0.9796748161315918\n",
            "25/25 [==============================] - 0s 4ms/step\n",
            "Confusion matrix\n",
            "- x-axis is true labels.\n",
            "- y-axis is predicted labels\n",
            "[[198   4]\n",
            " [  1  43]]\n",
            "Precision: [0.99497487 0.91489362]\n",
            "recall =  [0.98019802 0.97727273]\n"
          ],
          "name": "stdout"
        },
        {
          "output_type": "stream",
          "text": [
            "/usr/local/lib/python3.7/dist-packages/tensorflow/python/keras/engine/sequential.py:450: UserWarning: `model.predict_classes()` is deprecated and will be removed after 2021-01-01. Please use instead:* `np.argmax(model.predict(x), axis=-1)`,   if your model does multi-class classification   (e.g. if it uses a `softmax` last-layer activation).* `(model.predict(x) > 0.5).astype(\"int32\")`,   if your model does binary classification   (e.g. if it uses a `sigmoid` last-layer activation).\n",
            "  warnings.warn('`model.predict_classes()` is deprecated and '\n"
          ],
          "name": "stderr"
        }
      ]
    },
    {
      "cell_type": "code",
      "metadata": {
        "colab": {
          "base_uri": "https://localhost:8080/"
        },
        "id": "_iljXQoAcbAr",
        "outputId": "06852a98-f622-46c4-acfe-ff89f0abebcc"
      },
      "source": [
        "# pick the feature columns \n",
        "sequence_cols=train_df.columns.difference(['Time','rul',\"label\"])\n",
        "\n",
        "# generator for the sequences\n",
        "\n",
        "seq_gen = list(list(gen_sequence(test_df, sequence_length, sequence_cols)))\n",
        "           \n",
        "\n",
        "# generate sequences and convert to numpy array\n",
        "seq_array = np.concatenate(list(seq_gen)).astype(np.float32)\n",
        "    \n",
        "seq_array_test_last=np.reshape(seq_array, (len(seq_gen),sequence_length,len(sequence_cols)))\n",
        "print(seq_array_test_last.shape) "
      ],
      "execution_count": 230,
      "outputs": [
        {
          "output_type": "stream",
          "text": [
            "(111, 15, 6)\n"
          ],
          "name": "stdout"
        }
      ]
    },
    {
      "cell_type": "code",
      "metadata": {
        "colab": {
          "base_uri": "https://localhost:8080/"
        },
        "id": "D49pjFIUc71M",
        "outputId": "572630c2-2eb2-4edc-bd2b-32bba59190e5"
      },
      "source": [
        "# generate labels\n",
        "label_gen = [gen_labels(test_df, sequence_length, ['label'])]\n",
        "label_array_test_last = np.concatenate(label_gen).astype(np.float32)\n",
        "print(label_array_test_last.shape)"
      ],
      "execution_count": 231,
      "outputs": [
        {
          "output_type": "stream",
          "text": [
            "(111, 1)\n"
          ],
          "name": "stdout"
        }
      ]
    },
    {
      "cell_type": "code",
      "metadata": {
        "colab": {
          "base_uri": "https://localhost:8080/",
          "height": 574
        },
        "id": "vi88dCgCKbgS",
        "outputId": "e374e8c0-130c-4384-a6f8-a34a8b0e3188"
      },
      "source": [
        "\n",
        "import os\n",
        "# if best iteration's model was saved then load and use it\n",
        "estimator = load_model(model_path_label1)\n",
        "# test metrics\n",
        "scores_test = estimator.evaluate(seq_array_test_last, label_array_test_last, verbose=2)\n",
        "print('Accurracy: {}'.format(scores_test[1]))\n",
        "\n",
        "# make predictions and compute confusion matrix\n",
        "y_pred_test = estimator.predict_classes(seq_array_test_last)\n",
        "y_true_test = label_array_test_last\n",
        "\n",
        "test_set = pd.DataFrame(y_pred_test)\n",
        "test_set.to_csv('binary_submit_test.csv', index = None)\n",
        "\n",
        "print('Confusion matrix\\n- x-axis is true labels.\\n- y-axis is predicted labels')\n",
        "cm = confusion_matrix(y_true_test, y_pred_test)\n",
        "print(cm)\n",
        "\n",
        "# compute precision and recall\n",
        "precision_test = precision_score(y_true_test, y_pred_test)\n",
        "recall_test = recall_score(y_true_test, y_pred_test)\n",
        "f1_test = 2 * (precision_test * recall_test) / (precision_test + recall_test)\n",
        "print( 'Precision: ', precision_test, '\\n', 'Recall: ', recall_test,'\\n', 'F1-score:', f1_test )\n",
        "\n",
        "# Plot in blue color the predicted data and in green color the\n",
        "# actual data to verify visually the accuracy of the model.\n",
        "fig_verify = plt.figure(figsize=(10, 5))\n",
        "plt.plot(y_pred_test, color=\"blue\")\n",
        "plt.plot(y_true_test, color=\"green\")\n",
        "plt.title('prediction')\n",
        "plt.ylabel('value')\n",
        "plt.xlabel('row')\n",
        "plt.legend(['predicted', 'actual data'], loc='upper right')\n",
        "plt.show()\n",
        "fig_verify.savefig(\"model_verify.png\")"
      ],
      "execution_count": 232,
      "outputs": [
        {
          "output_type": "stream",
          "text": [
            "4/4 - 1s - loss: 0.1339 - accuracy: 0.9730\n",
            "Accurracy: 0.9729729890823364\n"
          ],
          "name": "stdout"
        },
        {
          "output_type": "stream",
          "text": [
            "/usr/local/lib/python3.7/dist-packages/tensorflow/python/keras/engine/sequential.py:450: UserWarning: `model.predict_classes()` is deprecated and will be removed after 2021-01-01. Please use instead:* `np.argmax(model.predict(x), axis=-1)`,   if your model does multi-class classification   (e.g. if it uses a `softmax` last-layer activation).* `(model.predict(x) > 0.5).astype(\"int32\")`,   if your model does binary classification   (e.g. if it uses a `sigmoid` last-layer activation).\n",
            "  warnings.warn('`model.predict_classes()` is deprecated and '\n"
          ],
          "name": "stderr"
        },
        {
          "output_type": "stream",
          "text": [
            "Confusion matrix\n",
            "- x-axis is true labels.\n",
            "- y-axis is predicted labels\n",
            "[[77  3]\n",
            " [ 0 31]]\n",
            "Precision:  0.9117647058823529 \n",
            " Recall:  1.0 \n",
            " F1-score: 0.9538461538461539\n"
          ],
          "name": "stdout"
        },
        {
          "output_type": "display_data",
          "data": {
            "image/png": "[encoded data removed]",
            "text/plain": [
              "<Figure size 720x360 with 1 Axes>"
            ]
          },
          "metadata": {
            "tags": []
          }
        }
      ]
    },
    {
      "cell_type": "code",
      "metadata": {
        "id": "KZr6nAlJ3Xcj",
        "colab": {
          "base_uri": "https://localhost:8080/",
          "height": 391
        },
        "outputId": "acfee8d0-e731-4034-a4c9-4e08b3873375"
      },
      "source": [
        "fig, ax = plt.subplots(figsize=(6,6))\n",
        "ax = sns.set_style(\"darkgrid\")\n",
        "\n",
        "cf_matrix1 = np.array([[cm[0][0], cm[0][1]],\n",
        "                                   [cm[1][0], cm[1][1]]])\n",
        "group_names1 = [\"True Neg\", \"False Pos\", \"False Neg\", \"True Pos\"]\n",
        "group_counts1 = [\"{0:0.0f}\".format(value) for value in cf_matrix1.flatten()]\n",
        "group_percentages1 = [\"{0:.2%}\".format(value) for value in cf_matrix1.flatten() / np.sum(cf_matrix1)]\n",
        "labels1 = [f\"{v1}\\n{v2}\\n{v3}\" for v1, v2, v3 in zip(group_names1, group_counts1, group_percentages1)]\n",
        "labels1 = np.asarray(labels1).reshape(2, 2)\n",
        "sns.heatmap(cf_matrix1, annot=labels1, fmt=\"\", cmap='Blues')"
      ],
      "execution_count": 233,
      "outputs": [
        {
          "output_type": "execute_result",
          "data": {
            "text/plain": [
              "<matplotlib.axes._subplots.AxesSubplot at 0x7f211940fed0>"
            ]
          },
          "metadata": {
            "tags": []
          },
          "execution_count": 233
        },
        {
          "output_type": "display_data",
          "data": {
            "image/png": "[encoded data removed]",
            "text/plain": [
              "<Figure size 432x432 with 2 Axes>"
            ]
          },
          "metadata": {
            "tags": []
          }
        }
      ]
    },
    {
      "cell_type": "code",
      "metadata": {
        "id": "TxXKgVmsmKtO"
      },
      "source": [
        ""
      ],
      "execution_count": 233,
      "outputs": []
    }
  ]
}