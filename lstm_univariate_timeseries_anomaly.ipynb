{
  "nbformat": 4,
  "nbformat_minor": 0,
  "metadata": {
    "colab": {
      "name": "lstm_univariate_timeseries_anomaly.ipynb",
      "provenance": [],
      "authorship_tag": "ABX9TyMP/VC/QSUm+NdlqzWBqbgJ",
      "include_colab_link": true
    },
    "kernelspec": {
      "name": "python3",
      "display_name": "Python 3"
    },
    "language_info": {
      "name": "python"
    },
    "accelerator": "GPU"
  },
  "cells": [
    {
      "cell_type": "markdown",
      "metadata": {
        "id": "view-in-github",
        "colab_type": "text"
      },
      "source": [
        "<a href=\"https://colab.research.google.com/github/MustafaBozkurt84/predictive-maintanance-LSTM/blob/master/lstm_univariate_timeseries_anomaly.ipynb\" target=\"_parent\"><img src=\"https://colab.research.google.com/assets/colab-badge.svg\" alt=\"Open In Colab\"/></a>"
      ]
    },
    {
      "cell_type": "code",
      "metadata": {
        "id": "1SsTQcBDtOQJ"
      },
      "source": [
        "import numpy as np\n",
        "import tensorflow as tf\n",
        "from tensorflow import keras\n",
        "import pandas as pd\n",
        "import seaborn as sns\n",
        "from pylab import rcParams\n",
        "import matplotlib.pyplot as plt\n",
        "from matplotlib import rc\n",
        "from pandas.plotting import register_matplotlib_converters\n",
        "from sklearn.preprocessing import StandardScaler\n",
        "%matplotlib inline\n",
        "%config InlineBackend.figure_format='retina'\n",
        "import pickle\n",
        "register_matplotlib_converters()\n",
        "sns.set(style='whitegrid', palette='muted', font_scale=1.5)\n",
        "\n",
        "rcParams['figure.figsize'] = 15, 7\n",
        "\n",
        "RANDOM_SEED = 42\n",
        "\n",
        "np.random.seed(RANDOM_SEED)\n",
        "tf.random.set_seed(RANDOM_SEED)"
      ],
      "execution_count": 1,
      "outputs": []
    },
    {
      "cell_type": "code",
      "metadata": {
        "colab": {
          "base_uri": "https://localhost:8080/"
        },
        "id": "zZjpOmT3tkjI",
        "outputId": "ed72f48a-b002-4f60-9e6f-bc8f44ec4f7d"
      },
      "source": [
        "from google.colab import drive\n",
        "drive.mount('/content/drive')"
      ],
      "execution_count": 2,
      "outputs": [
        {
          "output_type": "stream",
          "text": [
            "Drive already mounted at /content/drive; to attempt to forcibly remount, call drive.mount(\"/content/drive\", force_remount=True).\n"
          ],
          "name": "stdout"
        }
      ]
    },
    {
      "cell_type": "code",
      "metadata": {
        "colab": {
          "base_uri": "https://localhost:8080/"
        },
        "id": "Uzv0QHWVQfwS",
        "outputId": "c2a8027f-8cb3-4ea5-e406-149d75064364"
      },
      "source": [
        "df =pd.read_csv(\"/content/drive/MyDrive/Datasets/predictive maintance /31_hidrolikmotoru_analiz.csv\")"
      ],
      "execution_count": 3,
      "outputs": [
        {
          "output_type": "stream",
          "text": [
            "/usr/local/lib/python3.7/dist-packages/IPython/core/interactiveshell.py:2718: DtypeWarning: Columns (2) have mixed types.Specify dtype option on import or set low_memory=False.\n",
            "  interactivity=interactivity, compiler=compiler, result=result)\n"
          ],
          "name": "stderr"
        }
      ]
    },
    {
      "cell_type": "code",
      "metadata": {
        "colab": {
          "base_uri": "https://localhost:8080/",
          "height": 204
        },
        "id": "Ybgz2IFAt0ZW",
        "outputId": "375abc16-2cc0-40db-a5e1-680914ca57c3"
      },
      "source": [
        "df.drop([\"name\",\"partno\",\"balancerbasinci\",\"spm\",\"xkurt\"],axis=1,inplace=True)\n",
        "df.columns=['Time', 'vibx', 'vibz', 'temp', 'zacc', 'zfreq', 'crest']\n",
        "df[\"Time\"]= [str(i).replace(\"2020-02-02\",\"2/2/2020\").replace(\"2020-01-02\",\"2/1/2020\") for i in df[\"Time\"]]\n",
        "\n",
        "df['Time'] = pd.to_datetime(df['Time']) \n",
        "df['Time']=[str(i).split(\":\")[0] for i in df[\"Time\"]]\n",
        "df['Time'] = pd.to_datetime(df['Time'],format=\"%Y-%m-%d %H\") #%Y-%m-%d %H:%M:%S\n",
        "\n",
        "df=df.groupby(\"Time\").mean()\n",
        "df.reset_index(inplace=True)\n",
        "\n",
        "df.to_csv(\"/content/drive/MyDrive/Datasets/predictive maintance /DataAnaliz.csv\")\n",
        "df.head()"
      ],
      "execution_count": 4,
      "outputs": [
        {
          "output_type": "execute_result",
          "data": {
            "text/html": [
              "<div>\n",
              "<style scoped>\n",
              "    .dataframe tbody tr th:only-of-type {\n",
              "        vertical-align: middle;\n",
              "    }\n",
              "\n",
              "    .dataframe tbody tr th {\n",
              "        vertical-align: top;\n",
              "    }\n",
              "\n",
              "    .dataframe thead th {\n",
              "        text-align: right;\n",
              "    }\n",
              "</style>\n",
              "<table border=\"1\" class=\"dataframe\">\n",
              "  <thead>\n",
              "    <tr style=\"text-align: right;\">\n",
              "      <th></th>\n",
              "      <th>Time</th>\n",
              "      <th>vibx</th>\n",
              "      <th>vibz</th>\n",
              "      <th>temp</th>\n",
              "      <th>zacc</th>\n",
              "      <th>zfreq</th>\n",
              "      <th>crest</th>\n",
              "    </tr>\n",
              "  </thead>\n",
              "  <tbody>\n",
              "    <tr>\n",
              "      <th>0</th>\n",
              "      <td>2020-01-01 00:00:00</td>\n",
              "      <td>0.154338</td>\n",
              "      <td>0.144321</td>\n",
              "      <td>15.637208</td>\n",
              "      <td>0.041157</td>\n",
              "      <td>0.01</td>\n",
              "      <td>4.111596</td>\n",
              "    </tr>\n",
              "    <tr>\n",
              "      <th>1</th>\n",
              "      <td>2020-01-01 01:00:00</td>\n",
              "      <td>0.156064</td>\n",
              "      <td>0.145520</td>\n",
              "      <td>15.373346</td>\n",
              "      <td>0.041440</td>\n",
              "      <td>0.01</td>\n",
              "      <td>4.160439</td>\n",
              "    </tr>\n",
              "    <tr>\n",
              "      <th>2</th>\n",
              "      <td>2020-01-01 02:00:00</td>\n",
              "      <td>0.155957</td>\n",
              "      <td>0.146585</td>\n",
              "      <td>15.122024</td>\n",
              "      <td>0.041997</td>\n",
              "      <td>0.01</td>\n",
              "      <td>4.212914</td>\n",
              "    </tr>\n",
              "    <tr>\n",
              "      <th>3</th>\n",
              "      <td>2020-01-01 03:00:00</td>\n",
              "      <td>0.155334</td>\n",
              "      <td>0.143598</td>\n",
              "      <td>14.902892</td>\n",
              "      <td>0.043065</td>\n",
              "      <td>0.01</td>\n",
              "      <td>4.331691</td>\n",
              "    </tr>\n",
              "    <tr>\n",
              "      <th>4</th>\n",
              "      <td>2020-01-01 04:00:00</td>\n",
              "      <td>0.157375</td>\n",
              "      <td>0.144605</td>\n",
              "      <td>14.703281</td>\n",
              "      <td>0.047041</td>\n",
              "      <td>0.01</td>\n",
              "      <td>4.693571</td>\n",
              "    </tr>\n",
              "  </tbody>\n",
              "</table>\n",
              "</div>"
            ],
            "text/plain": [
              "                 Time      vibx      vibz       temp      zacc  zfreq     crest\n",
              "0 2020-01-01 00:00:00  0.154338  0.144321  15.637208  0.041157   0.01  4.111596\n",
              "1 2020-01-01 01:00:00  0.156064  0.145520  15.373346  0.041440   0.01  4.160439\n",
              "2 2020-01-01 02:00:00  0.155957  0.146585  15.122024  0.041997   0.01  4.212914\n",
              "3 2020-01-01 03:00:00  0.155334  0.143598  14.902892  0.043065   0.01  4.331691\n",
              "4 2020-01-01 04:00:00  0.157375  0.144605  14.703281  0.047041   0.01  4.693571"
            ]
          },
          "metadata": {
            "tags": []
          },
          "execution_count": 4
        }
      ]
    },
    {
      "cell_type": "code",
      "metadata": {
        "id": "Ko97fxi4U5K6"
      },
      "source": [
        "df['Time'] = pd.to_datetime(df['Time'],format=\"%Y-%m-%d %H\")"
      ],
      "execution_count": 5,
      "outputs": []
    },
    {
      "cell_type": "markdown",
      "metadata": {
        "id": "JT0gcTv7yYYw"
      },
      "source": [
        "# Train Test "
      ]
    },
    {
      "cell_type": "code",
      "metadata": {
        "id": "EZHGs6PhhjEN"
      },
      "source": [
        "data =df.copy()"
      ],
      "execution_count": 6,
      "outputs": []
    },
    {
      "cell_type": "code",
      "metadata": {
        "id": "-IgF75CLn61w"
      },
      "source": [
        "ariza_tarihleri=[\"2020-01-27 14:00:00\",\"2020-09-11 14:00:00\",\"2020-10-06 18:00:00\",\"2020-10-10 08:00:00\",\"2020-10-13 04:00:00\",\"2020-10-18 00:00:00\",\"2020-10-30 09:00:00\",\"2020-11-02 05:00:00\"]"
      ],
      "execution_count": 7,
      "outputs": []
    },
    {
      "cell_type": "code",
      "metadata": {
        "id": "HxQthLbPewfx"
      },
      "source": [
        "def pickle_all(key,value):\n",
        "         pickle_out = open(key, \"wb\")\n",
        "         pickle.dump(value, pickle_out)\n",
        "         pickle_out.close()"
      ],
      "execution_count": 8,
      "outputs": []
    },
    {
      "cell_type": "code",
      "metadata": {
        "id": "ps461nmozA_f"
      },
      "source": [
        "# convert an array of values into a dataset matrix\n",
        "def create_dataset(X, y, time_steps=1):\n",
        "    Xs, ys = [], []\n",
        "    for i in range(len(X) - time_steps):\n",
        "        v = X.iloc[i:(i + time_steps)].values\n",
        "        Xs.append(v)        \n",
        "        ys.append(y.iloc[i + time_steps])\n",
        "    return np.array(Xs), np.array(ys)"
      ],
      "execution_count": 9,
      "outputs": []
    },
    {
      "cell_type": "code",
      "metadata": {
        "id": "OMfsEi1MmtK1"
      },
      "source": [
        "def lstm_anomaly(df,col,date,time_step,threshold):\n",
        "    print(f\"{col}\"+50*\"*\")\n",
        "    df  = data.copy()\n",
        "    df.set_index(\"Time\",inplace=True)\n",
        "    df1=df[[col]]\n",
        "    train_size=len(df[df.index < date][col].tolist())\n",
        "    test_size=df.shape[0]-train_size\n",
        "    train, test = df1.iloc[24*30:train_size], df1[df1.index>\"2020-01-13 15:00:00\"]\n",
        "    print(train.shape, test.shape)\n",
        "    # reshape into X=t,t+1,t+2,t+3 and Y=t+4\n",
        "    \n",
        "\n",
        "    scaler = StandardScaler()\n",
        "    scaler = scaler.fit(train[[col]])\n",
        "\n",
        "    train[col] = scaler.transform(train[[col]])\n",
        "    test[col] = scaler.transform(test[[col]])\n",
        "    pickle_all(f\"/content/drive/MyDrive/model_predictive_maintanence/{col}_scaler_lstm_univarate.pkl\",scaler)    \n",
        "           \n",
        "    TIME_STEPS = time_step\n",
        "    \n",
        "    # reshape to [samples, time_steps, n_features]\n",
        "\n",
        "    X_train, y_train = create_dataset(train[[col]], train[col], TIME_STEPS)\n",
        "    X_test, y_test = create_dataset(test[[col]], test[col], TIME_STEPS)\n",
        "\n",
        "    print(X_train.shape)\n",
        "\n",
        "    model = keras.Sequential()\n",
        "    model.add(keras.layers.LSTM(\n",
        "            units=64, \n",
        "            input_shape=(X_train.shape[1], X_train.shape[2])\n",
        "        ))\n",
        "    model.add(keras.layers.Dropout(rate=0.2))\n",
        "    model.add(keras.layers.RepeatVector(n=X_train.shape[1]))\n",
        "    model.add(keras.layers.LSTM(units=64, return_sequences=True))\n",
        "    model.add(keras.layers.Dropout(rate=0.2))\n",
        "    model.add(keras.layers.TimeDistributed(keras.layers.Dense(units=X_train.shape[2])))\n",
        "    model.compile(loss='mae', optimizer='adam')\n",
        "        \n",
        "    history = model.fit(\n",
        "        X_train, y_train,\n",
        "        epochs=50,\n",
        "        batch_size=32,\n",
        "        validation_split=0.1,\n",
        "        shuffle=False,verbose=1\n",
        "    )\n",
        "   \n",
        "    model.save(f\"/content/drive/MyDrive/model_predictive_maintanence/{col}_anomaly_model.h5\")\n",
        "    X_train_pred = model.predict(X_train)\n",
        "\n",
        "    train_mae_loss = np.mean(np.abs(X_train_pred - X_train), axis=1)\n",
        "    \n",
        "    X_test_pred = model.predict(X_test)\n",
        "\n",
        "    test_mae_loss = np.mean(np.abs(X_test_pred - X_test), axis=1)\n",
        "    \n",
        "    THRESHOLD = threshold\n",
        "\n",
        "    test_score_df = pd.DataFrame(index=test[TIME_STEPS:].index)\n",
        "    test_score_df['loss'] = test_mae_loss\n",
        "    test_score_df['threshold'] = THRESHOLD\n",
        "    test_score_df['anomaly'] = test_score_df.loss > test_score_df.threshold\n",
        "    test_score_df[col] = test[TIME_STEPS:][col]\n",
        "    \n",
        "    anomalies = test_score_df[test_score_df.anomaly == True]\n",
        "    \n",
        "    train_score_df = pd.DataFrame(index=train[TIME_STEPS:].index)\n",
        "    train_score_df['loss'] = train_mae_loss\n",
        "    train_score_df['threshold'] = THRESHOLD\n",
        "    train_score_df['anomaly'] = train_score_df.loss > train_score_df.threshold\n",
        "    train_score_df[col] = train[TIME_STEPS:][col]\n",
        "    \n",
        "    anomalies_train = train_score_df[train_score_df.anomaly == True]\n",
        "    \n",
        "    return anomalies,anomalies_train,test,train,test_score_df,test_mae_loss,train_mae_loss,history,TIME_STEPS,col,scaler"
      ],
      "execution_count": 10,
      "outputs": []
    },
    {
      "cell_type": "code",
      "metadata": {
        "id": "j6BaQvOUlXJU"
      },
      "source": [
        "def loss_and_threshold_value_plot():\n",
        "    plt.plot(test_score_df.index, test_score_df.loss, label='loss_'+col)\n",
        "    plt.plot(test_score_df.index, test_score_df.threshold, label='threshold_'+col)\n",
        "    plt.xticks(rotation=25)\n",
        "    plt.legend();"
      ],
      "execution_count": 11,
      "outputs": []
    },
    {
      "cell_type": "code",
      "metadata": {
        "id": "ketDomXKkur1"
      },
      "source": [
        "def train_mae_loss():\n",
        "    sns.distplot(train_mae_loss, bins=50, kde=True);\n"
      ],
      "execution_count": 12,
      "outputs": []
    },
    {
      "cell_type": "code",
      "metadata": {
        "id": "btNF9-XSj9G1"
      },
      "source": [
        "def anomaly_plot(test,anomalies,col):\n",
        "    ariza_tarihleri_plot= []\n",
        "    for i in [str(a) for a in data[\"Time\"]]:\n",
        "          if i not in [str(b) for b in ariza_tarihleri]:\n",
        "            ariza_tarihleri_plot.append(data[col].min())\n",
        "          else:\n",
        "            ariza_tarihleri_plot.append(data[col].max())\n",
        "    ariza=pd.DataFrame(ariza_tarihleri_plot)\n",
        "    ariza.index=data[\"Time\"]\n",
        "    ariza.columns=[\"ariza tarihleri\"]\n",
        "\n",
        "    print(anomalies.head(10))\n",
        "    plt.plot(\n",
        "          test[TIME_STEPS:].index, \n",
        "          scaler.inverse_transform(test[TIME_STEPS:][col]), \n",
        "          label=col\n",
        "        );\n",
        "\n",
        "    sns.scatterplot(\n",
        "          anomalies.index,\n",
        "          scaler.inverse_transform(anomalies[col]),\n",
        "          color=sns.color_palette()[3],\n",
        "          s=52,\n",
        "          label='anomaly_'+col\n",
        "        )\n",
        "    plt.plot(ariza[\"ariza tarihleri\"],label=\"ariza tarihleri\")\n",
        "    plt.xticks(rotation=25)\n",
        "    plt.legend();\n"
      ],
      "execution_count": 13,
      "outputs": []
    },
    {
      "cell_type": "code",
      "metadata": {
        "id": "76WgbsIKkfYO"
      },
      "source": [
        "def loss_plot():\n",
        "    plt.plot(history.history['loss'], label='train loss_'+col)\n",
        "    plt.plot(history.history['val_loss'], label='test loss_'+col)\n",
        "    plt.legend();\n"
      ],
      "execution_count": 14,
      "outputs": []
    },
    {
      "cell_type": "code",
      "metadata": {
        "id": "BI2rb1iz2cpp"
      },
      "source": [
        "total_anomalies = pd.DataFrame()\n"
      ],
      "execution_count": 15,
      "outputs": []
    },
    {
      "cell_type": "markdown",
      "metadata": {
        "id": "XIt27X8NB1Fa"
      },
      "source": [
        "# vibx "
      ]
    },
    {
      "cell_type": "code",
      "metadata": {
        "colab": {
          "base_uri": "https://localhost:8080/"
        },
        "id": "dfo7W8W7o-aj",
        "outputId": "6d5112f2-2eea-4b50-8b38-e98ff9d9d63a"
      },
      "source": [
        "anomalies,anomalies_train,test,train,test_score_df,test_mae_loss,train_mae_loss,history,TIME_STEPS,col,scaler= lstm_anomaly(df,col=\"vibx\",date=\"2020-09-10 04:00:00\", time_step=20, threshold=1.9)\n",
        "anomalyy= anomalies.reset_index()\n",
        "anomalyy[\"anomaly_count\"]=[1 for i in range(anomalies.shape[0])]\n",
        "total_anomalies = pd.concat((total_anomalies,anomalyy),axis=0)"
      ],
      "execution_count": 16,
      "outputs": [
        {
          "output_type": "stream",
          "text": [
            "vibx**************************************************\n",
            "(4511, 1) (8009, 1)\n"
          ],
          "name": "stdout"
        },
        {
          "output_type": "stream",
          "text": [
            "/usr/local/lib/python3.7/dist-packages/ipykernel_launcher.py:16: SettingWithCopyWarning: \n",
            "A value is trying to be set on a copy of a slice from a DataFrame.\n",
            "Try using .loc[row_indexer,col_indexer] = value instead\n",
            "\n",
            "See the caveats in the documentation: https://pandas.pydata.org/pandas-docs/stable/user_guide/indexing.html#returning-a-view-versus-a-copy\n",
            "  app.launch_new_instance()\n",
            "/usr/local/lib/python3.7/dist-packages/ipykernel_launcher.py:17: SettingWithCopyWarning: \n",
            "A value is trying to be set on a copy of a slice from a DataFrame.\n",
            "Try using .loc[row_indexer,col_indexer] = value instead\n",
            "\n",
            "See the caveats in the documentation: https://pandas.pydata.org/pandas-docs/stable/user_guide/indexing.html#returning-a-view-versus-a-copy\n"
          ],
          "name": "stderr"
        },
        {
          "output_type": "stream",
          "text": [
            "(4491, 20, 1)\n",
            "Epoch 1/50\n",
            "127/127 [==============================] - 6s 25ms/step - loss: 0.4269 - val_loss: 0.3624\n",
            "Epoch 2/50\n",
            "127/127 [==============================] - 2s 18ms/step - loss: 0.3020 - val_loss: 0.3452\n",
            "Epoch 3/50\n",
            "127/127 [==============================] - 2s 17ms/step - loss: 0.2932 - val_loss: 0.3209\n",
            "Epoch 4/50\n",
            "127/127 [==============================] - 2s 18ms/step - loss: 0.2741 - val_loss: 0.3111\n",
            "Epoch 5/50\n",
            "127/127 [==============================] - 2s 18ms/step - loss: 0.2552 - val_loss: 0.2985\n",
            "Epoch 6/50\n",
            "127/127 [==============================] - 2s 18ms/step - loss: 0.2524 - val_loss: 0.3014\n",
            "Epoch 7/50\n",
            "127/127 [==============================] - 2s 18ms/step - loss: 0.2434 - val_loss: 0.2829\n",
            "Epoch 8/50\n",
            "127/127 [==============================] - 2s 18ms/step - loss: 0.2428 - val_loss: 0.3015\n",
            "Epoch 9/50\n",
            "127/127 [==============================] - 2s 17ms/step - loss: 0.2407 - val_loss: 0.2839\n",
            "Epoch 10/50\n",
            "127/127 [==============================] - 2s 18ms/step - loss: 0.2364 - val_loss: 0.2890\n",
            "Epoch 11/50\n",
            "127/127 [==============================] - 2s 18ms/step - loss: 0.2387 - val_loss: 0.2890\n",
            "Epoch 12/50\n",
            "127/127 [==============================] - 2s 18ms/step - loss: 0.2364 - val_loss: 0.2833\n",
            "Epoch 13/50\n",
            "127/127 [==============================] - 2s 18ms/step - loss: 0.2349 - val_loss: 0.2857\n",
            "Epoch 14/50\n",
            "127/127 [==============================] - 2s 18ms/step - loss: 0.2343 - val_loss: 0.2845\n",
            "Epoch 15/50\n",
            "127/127 [==============================] - 2s 18ms/step - loss: 0.2356 - val_loss: 0.2804\n",
            "Epoch 16/50\n",
            "127/127 [==============================] - 2s 18ms/step - loss: 0.2316 - val_loss: 0.2832\n",
            "Epoch 17/50\n",
            "127/127 [==============================] - 2s 18ms/step - loss: 0.2322 - val_loss: 0.2834\n",
            "Epoch 18/50\n",
            "127/127 [==============================] - 2s 18ms/step - loss: 0.2296 - val_loss: 0.2792\n",
            "Epoch 19/50\n",
            "127/127 [==============================] - 2s 17ms/step - loss: 0.2325 - val_loss: 0.2842\n",
            "Epoch 20/50\n",
            "127/127 [==============================] - 2s 18ms/step - loss: 0.2300 - val_loss: 0.2846\n",
            "Epoch 21/50\n",
            "127/127 [==============================] - 2s 18ms/step - loss: 0.2283 - val_loss: 0.2915\n",
            "Epoch 22/50\n",
            "127/127 [==============================] - 2s 18ms/step - loss: 0.2286 - val_loss: 0.2823\n",
            "Epoch 23/50\n",
            "127/127 [==============================] - 2s 18ms/step - loss: 0.2279 - val_loss: 0.2856\n",
            "Epoch 24/50\n",
            "127/127 [==============================] - 2s 18ms/step - loss: 0.2284 - val_loss: 0.2793\n",
            "Epoch 25/50\n",
            "127/127 [==============================] - 2s 18ms/step - loss: 0.2235 - val_loss: 0.2865\n",
            "Epoch 26/50\n",
            "127/127 [==============================] - 2s 18ms/step - loss: 0.2234 - val_loss: 0.2899\n",
            "Epoch 27/50\n",
            "127/127 [==============================] - 2s 18ms/step - loss: 0.2239 - val_loss: 0.2809\n",
            "Epoch 28/50\n",
            "127/127 [==============================] - 2s 18ms/step - loss: 0.2211 - val_loss: 0.2774\n",
            "Epoch 29/50\n",
            "127/127 [==============================] - 2s 18ms/step - loss: 0.2172 - val_loss: 0.2778\n",
            "Epoch 30/50\n",
            "127/127 [==============================] - 2s 18ms/step - loss: 0.2143 - val_loss: 0.2901\n",
            "Epoch 31/50\n",
            "127/127 [==============================] - 2s 18ms/step - loss: 0.2130 - val_loss: 0.2931\n",
            "Epoch 32/50\n",
            "127/127 [==============================] - 2s 18ms/step - loss: 0.2139 - val_loss: 0.2892\n",
            "Epoch 33/50\n",
            "127/127 [==============================] - 2s 18ms/step - loss: 0.2117 - val_loss: 0.2950\n",
            "Epoch 34/50\n",
            "127/127 [==============================] - 2s 18ms/step - loss: 0.2160 - val_loss: 0.2939\n",
            "Epoch 35/50\n",
            "127/127 [==============================] - 2s 18ms/step - loss: 0.2132 - val_loss: 0.3127\n",
            "Epoch 36/50\n",
            "127/127 [==============================] - 2s 18ms/step - loss: 0.2137 - val_loss: 0.3074\n",
            "Epoch 37/50\n",
            "127/127 [==============================] - 2s 18ms/step - loss: 0.2140 - val_loss: 0.3023\n",
            "Epoch 38/50\n",
            "127/127 [==============================] - 2s 18ms/step - loss: 0.2116 - val_loss: 0.3105\n",
            "Epoch 39/50\n",
            "127/127 [==============================] - 2s 18ms/step - loss: 0.2091 - val_loss: 0.3059\n",
            "Epoch 40/50\n",
            "127/127 [==============================] - 2s 19ms/step - loss: 0.2079 - val_loss: 0.3138\n",
            "Epoch 41/50\n",
            "127/127 [==============================] - 2s 18ms/step - loss: 0.2145 - val_loss: 0.3056\n",
            "Epoch 42/50\n",
            "127/127 [==============================] - 2s 18ms/step - loss: 0.2081 - val_loss: 0.3095\n",
            "Epoch 43/50\n",
            "127/127 [==============================] - 2s 18ms/step - loss: 0.2071 - val_loss: 0.3122\n",
            "Epoch 44/50\n",
            "127/127 [==============================] - 2s 18ms/step - loss: 0.2089 - val_loss: 0.3163\n",
            "Epoch 45/50\n",
            "127/127 [==============================] - 2s 19ms/step - loss: 0.2076 - val_loss: 0.3197\n",
            "Epoch 46/50\n",
            "127/127 [==============================] - 2s 18ms/step - loss: 0.2105 - val_loss: 0.3132\n",
            "Epoch 47/50\n",
            "127/127 [==============================] - 2s 18ms/step - loss: 0.2091 - val_loss: 0.3186\n",
            "Epoch 48/50\n",
            "127/127 [==============================] - 2s 18ms/step - loss: 0.2079 - val_loss: 0.3109\n",
            "Epoch 49/50\n",
            "127/127 [==============================] - 2s 18ms/step - loss: 0.2037 - val_loss: 0.3184\n",
            "Epoch 50/50\n",
            "127/127 [==============================] - 2s 18ms/step - loss: 0.2074 - val_loss: 0.3100\n"
          ],
          "name": "stdout"
        }
      ]
    },
    {
      "cell_type": "code",
      "metadata": {
        "colab": {
          "base_uri": "https://localhost:8080/",
          "height": 345
        },
        "id": "bszCwJkypLqw",
        "outputId": "f8ca231f-74ef-436e-9b2a-aef526909893"
      },
      "source": [
        "sns.distplot(train_mae_loss, bins=50, kde=True)"
      ],
      "execution_count": 17,
      "outputs": [
        {
          "output_type": "stream",
          "text": [
            "/usr/local/lib/python3.7/dist-packages/seaborn/distributions.py:2557: FutureWarning: `distplot` is a deprecated function and will be removed in a future version. Please adapt your code to use either `displot` (a figure-level function with similar flexibility) or `histplot` (an axes-level function for histograms).\n",
            "  warnings.warn(msg, FutureWarning)\n"
          ],
          "name": "stderr"
        },
        {
          "output_type": "execute_result",
          "data": {
            "text/plain": [
              "<matplotlib.axes._subplots.AxesSubplot at 0x7fc22823f850>"
            ]
          },
          "metadata": {
            "tags": []
          },
          "execution_count": 17
        },
        {
          "output_type": "display_data",
          "data": {
            "image/png": "[encoded data removed]",
            "text/plain": [
              "<Figure size 432x288 with 1 Axes>"
            ]
          },
          "metadata": {
            "tags": [],
            "image/png": {
              "width": 395,
              "height": 257
            },
            "needs_background": "light"
          }
        }
      ]
    },
    {
      "cell_type": "code",
      "metadata": {
        "colab": {
          "base_uri": "https://localhost:8080/",
          "height": 274
        },
        "id": "iYBtLUXSnYX2",
        "outputId": "d18c22f1-2144-4037-e873-a34d583d3ce4"
      },
      "source": [
        "loss_plot()"
      ],
      "execution_count": 18,
      "outputs": [
        {
          "output_type": "display_data",
          "data": {
            "image/png": "[encoded data removed]",
            "text/plain": [
              "<Figure size 432x288 with 1 Axes>"
            ]
          },
          "metadata": {
            "tags": [],
            "image/png": {
              "width": 396,
              "height": 257
            },
            "needs_background": "light"
          }
        }
      ]
    },
    {
      "cell_type": "code",
      "metadata": {
        "colab": {
          "base_uri": "https://localhost:8080/",
          "height": 581
        },
        "id": "akmpjNKBnhbL",
        "outputId": "fc8dd3a7-128d-450a-d068-3f76012b3872"
      },
      "source": [
        "anomaly_plot(test,anomalies=anomalies,col=\"vibx\")"
      ],
      "execution_count": 19,
      "outputs": [
        {
          "output_type": "stream",
          "text": [
            "                         loss  threshold  anomaly      vibx\n",
            "Time                                                       \n",
            "2020-02-02 22:00:00  2.129996        1.9     True  1.033432\n",
            "2020-02-02 23:00:00  1.991499        1.9     True  0.876362\n",
            "2020-02-09 22:00:00  1.946228        1.9     True  1.086266\n",
            "2020-03-20 22:00:00  2.138022        1.9     True -1.091282\n",
            "2020-03-20 23:00:00  2.087205        1.9     True -1.100477\n",
            "2020-03-21 00:00:00  1.952885        1.9     True -1.086586\n",
            "2020-03-23 06:00:00  2.218287        1.9     True  1.283371\n",
            "2020-03-23 07:00:00  2.116106        1.9     True  1.499220\n",
            "2020-03-23 08:00:00  2.009995        1.9     True  1.516692\n",
            "2020-03-23 09:00:00  1.904991        1.9     True  0.672564\n"
          ],
          "name": "stdout"
        },
        {
          "output_type": "stream",
          "text": [
            "/usr/local/lib/python3.7/dist-packages/seaborn/_decorators.py:43: FutureWarning: Pass the following variables as keyword args: x, y. From version 0.12, the only valid positional argument will be `data`, and passing other arguments without an explicit keyword will result in an error or misinterpretation.\n",
            "  FutureWarning\n"
          ],
          "name": "stderr"
        },
        {
          "output_type": "display_data",
          "data": {
            "image/png": "[encoded data removed]",
            "text/plain": [
              "<Figure size 432x288 with 1 Axes>"
            ]
          },
          "metadata": {
            "tags": [],
            "image/png": {
              "width": 398,
              "height": 306
            },
            "needs_background": "light"
          }
        }
      ]
    },
    {
      "cell_type": "markdown",
      "metadata": {
        "id": "E-XjgNoqB7FE"
      },
      "source": [
        "# vibz"
      ]
    },
    {
      "cell_type": "code",
      "metadata": {
        "colab": {
          "base_uri": "https://localhost:8080/"
        },
        "id": "k88E46sexEy0",
        "outputId": "0423a4c8-c5ad-4671-9a40-b5d3fedb8642"
      },
      "source": [
        "anomalies,anomalies_train,test,train,test_score_df,test_mae_loss,train_mae_loss,history,TIME_STEPS,col,scaler= lstm_anomaly(df,col=\"vibz\",date=\"2020-09-10 04:00:00\",time_step=20,threshold=1.9)\n",
        "anomalyy= anomalies.reset_index()\n",
        "anomalyy[\"anomaly_count\"]=[1 for i in range(anomalies.shape[0])]\n",
        "total_anomalies = pd.concat((total_anomalies,anomalyy),axis=0)"
      ],
      "execution_count": null,
      "outputs": [
        {
          "output_type": "stream",
          "text": [
            "vibz**************************************************\n",
            "(4511, 1) (8009, 1)\n"
          ],
          "name": "stdout"
        },
        {
          "output_type": "stream",
          "text": [
            "/usr/local/lib/python3.7/dist-packages/ipykernel_launcher.py:16: SettingWithCopyWarning: \n",
            "A value is trying to be set on a copy of a slice from a DataFrame.\n",
            "Try using .loc[row_indexer,col_indexer] = value instead\n",
            "\n",
            "See the caveats in the documentation: https://pandas.pydata.org/pandas-docs/stable/user_guide/indexing.html#returning-a-view-versus-a-copy\n",
            "  app.launch_new_instance()\n",
            "/usr/local/lib/python3.7/dist-packages/ipykernel_launcher.py:17: SettingWithCopyWarning: \n",
            "A value is trying to be set on a copy of a slice from a DataFrame.\n",
            "Try using .loc[row_indexer,col_indexer] = value instead\n",
            "\n",
            "See the caveats in the documentation: https://pandas.pydata.org/pandas-docs/stable/user_guide/indexing.html#returning-a-view-versus-a-copy\n"
          ],
          "name": "stderr"
        },
        {
          "output_type": "stream",
          "text": [
            "(4491, 20, 1)\n",
            "Epoch 1/50\n",
            "127/127 [==============================] - 5s 22ms/step - loss: 0.4110 - val_loss: 0.3915\n",
            "Epoch 2/50\n",
            "127/127 [==============================] - 2s 18ms/step - loss: 0.2915 - val_loss: 0.3701\n",
            "Epoch 3/50\n",
            "127/127 [==============================] - 2s 18ms/step - loss: 0.2706 - val_loss: 0.3680\n",
            "Epoch 4/50\n",
            "127/127 [==============================] - 2s 18ms/step - loss: 0.2538 - val_loss: 0.3737\n",
            "Epoch 5/50\n",
            "127/127 [==============================] - 2s 18ms/step - loss: 0.2433 - val_loss: 0.3786\n",
            "Epoch 6/50\n",
            "127/127 [==============================] - 2s 18ms/step - loss: 0.2410 - val_loss: 0.3844\n",
            "Epoch 7/50\n",
            "127/127 [==============================] - 2s 18ms/step - loss: 0.2382 - val_loss: 0.3790\n",
            "Epoch 8/50\n",
            "127/127 [==============================] - 2s 18ms/step - loss: 0.2352 - val_loss: 0.3779\n",
            "Epoch 9/50\n",
            "127/127 [==============================] - 2s 18ms/step - loss: 0.2337 - val_loss: 0.3735\n",
            "Epoch 10/50\n",
            "127/127 [==============================] - 2s 18ms/step - loss: 0.2314 - val_loss: 0.3648\n",
            "Epoch 11/50\n",
            "127/127 [==============================] - 2s 18ms/step - loss: 0.2320 - val_loss: 0.3667\n",
            "Epoch 12/50\n",
            "127/127 [==============================] - 2s 18ms/step - loss: 0.2295 - val_loss: 0.3653\n",
            "Epoch 13/50\n",
            "127/127 [==============================] - 2s 18ms/step - loss: 0.2287 - val_loss: 0.3648\n",
            "Epoch 14/50\n",
            "127/127 [==============================] - 2s 18ms/step - loss: 0.2282 - val_loss: 0.3651\n",
            "Epoch 15/50\n",
            "127/127 [==============================] - 2s 18ms/step - loss: 0.2300 - val_loss: 0.3711\n",
            "Epoch 16/50\n",
            "127/127 [==============================] - 2s 18ms/step - loss: 0.2291 - val_loss: 0.3687\n",
            "Epoch 17/50\n",
            "127/127 [==============================] - 2s 18ms/step - loss: 0.2277 - val_loss: 0.3694\n",
            "Epoch 18/50\n",
            "127/127 [==============================] - 2s 18ms/step - loss: 0.2282 - val_loss: 0.3649\n",
            "Epoch 19/50\n",
            "127/127 [==============================] - 2s 18ms/step - loss: 0.2265 - val_loss: 0.3646\n",
            "Epoch 20/50\n",
            "127/127 [==============================] - 2s 18ms/step - loss: 0.2273 - val_loss: 0.3679\n",
            "Epoch 21/50\n",
            "127/127 [==============================] - 2s 18ms/step - loss: 0.2250 - val_loss: 0.3696\n",
            "Epoch 22/50\n",
            "127/127 [==============================] - 2s 18ms/step - loss: 0.2253 - val_loss: 0.3714\n",
            "Epoch 23/50\n",
            "127/127 [==============================] - 2s 18ms/step - loss: 0.2275 - val_loss: 0.3691\n",
            "Epoch 24/50\n",
            "127/127 [==============================] - 2s 18ms/step - loss: 0.2263 - val_loss: 0.3565\n",
            "Epoch 25/50\n",
            "127/127 [==============================] - 2s 18ms/step - loss: 0.2254 - val_loss: 0.3440\n",
            "Epoch 26/50\n",
            "127/127 [==============================] - 2s 18ms/step - loss: 0.2247 - val_loss: 0.3526\n",
            "Epoch 27/50\n",
            "127/127 [==============================] - 2s 18ms/step - loss: 0.2255 - val_loss: 0.3563\n",
            "Epoch 28/50\n",
            "127/127 [==============================] - 2s 18ms/step - loss: 0.2231 - val_loss: 0.3494\n",
            "Epoch 29/50\n",
            "127/127 [==============================] - 2s 18ms/step - loss: 0.2222 - val_loss: 0.3519\n",
            "Epoch 30/50\n",
            "127/127 [==============================] - 2s 18ms/step - loss: 0.2225 - val_loss: 0.3602\n",
            "Epoch 31/50\n",
            "127/127 [==============================] - 2s 18ms/step - loss: 0.2232 - val_loss: 0.3476\n",
            "Epoch 32/50\n",
            "127/127 [==============================] - 2s 18ms/step - loss: 0.2225 - val_loss: 0.3472\n",
            "Epoch 33/50\n",
            " 30/127 [======>.......................] - ETA: 1s - loss: 0.2350"
          ],
          "name": "stdout"
        }
      ]
    },
    {
      "cell_type": "code",
      "metadata": {
        "id": "03SkwRnUxH3L"
      },
      "source": [
        "sns.distplot(train_mae_loss, bins=50, kde=True)"
      ],
      "execution_count": null,
      "outputs": []
    },
    {
      "cell_type": "code",
      "metadata": {
        "id": "HTatZXISxpSH"
      },
      "source": [
        "loss_plot()"
      ],
      "execution_count": null,
      "outputs": []
    },
    {
      "cell_type": "code",
      "metadata": {
        "id": "ApTJzzwexuE7"
      },
      "source": [
        "anomaly_plot(test,anomalies=anomalies,col=\"vibz\")"
      ],
      "execution_count": null,
      "outputs": []
    },
    {
      "cell_type": "markdown",
      "metadata": {
        "id": "7rCG4S5GCBY5"
      },
      "source": [
        "# temp"
      ]
    },
    {
      "cell_type": "code",
      "metadata": {
        "id": "FX1DNvOPyXXi"
      },
      "source": [
        "anomalies,anomalies_train,test,train,test_score_df,test_mae_loss,train_mae_loss,history,TIME_STEPS,col,scaler= lstm_anomaly(df,col=\"temp\",date=\"2020-09-10 04:00:00\",time_step=20,threshold=1.5)\n",
        "anomalyy= anomalies.reset_index()\n",
        "anomalyy[\"anomaly_count\"]=[1 for i in range(anomalies.shape[0])]\n",
        "total_anomalies = pd.concat((total_anomalies,anomalyy),axis=0)"
      ],
      "execution_count": null,
      "outputs": []
    },
    {
      "cell_type": "code",
      "metadata": {
        "id": "7jpn6R5Uygfq"
      },
      "source": [
        "sns.distplot(train_mae_loss, bins=50, kde=True)"
      ],
      "execution_count": null,
      "outputs": []
    },
    {
      "cell_type": "code",
      "metadata": {
        "id": "kn4Jo_Bwyh4q"
      },
      "source": [
        "loss_plot()"
      ],
      "execution_count": null,
      "outputs": []
    },
    {
      "cell_type": "code",
      "metadata": {
        "id": "7EXCYNfAyjQS"
      },
      "source": [
        "anomaly_plot(test,anomalies=anomalies,col=\"temp\")"
      ],
      "execution_count": null,
      "outputs": []
    },
    {
      "cell_type": "markdown",
      "metadata": {
        "id": "7fNx4wK6CGpJ"
      },
      "source": [
        "# zacc"
      ]
    },
    {
      "cell_type": "code",
      "metadata": {
        "id": "c9dnYE7xymgQ"
      },
      "source": [
        "anomalies,anomalies_train,test,train,test_score_df,test_mae_loss,train_mae_loss,history,TIME_STEPS,col,scaler= lstm_anomaly(df,col=\"zacc\",date=\"2020-09-10 04:00:00\",time_step=20,threshold=2.5)\n",
        "anomalyy= anomalies.reset_index()\n",
        "anomalyy[\"anomaly_count\"]=[1 for i in range(anomalies.shape[0])]\n",
        "total_anomalies = pd.concat((total_anomalies,anomalyy),axis=0)"
      ],
      "execution_count": null,
      "outputs": []
    },
    {
      "cell_type": "code",
      "metadata": {
        "id": "2ixyCZsSys3_"
      },
      "source": [
        "sns.distplot(train_mae_loss, bins=50, kde=True)"
      ],
      "execution_count": null,
      "outputs": []
    },
    {
      "cell_type": "code",
      "metadata": {
        "id": "RIyrOLEyys2W"
      },
      "source": [
        "loss_plot()"
      ],
      "execution_count": null,
      "outputs": []
    },
    {
      "cell_type": "code",
      "metadata": {
        "id": "x45Bse-Cysy_"
      },
      "source": [
        "anomaly_plot(test,anomalies=anomalies,col=\"zacc\")"
      ],
      "execution_count": null,
      "outputs": []
    },
    {
      "cell_type": "markdown",
      "metadata": {
        "id": "ZpT8vogpCMfB"
      },
      "source": [
        "# crest"
      ]
    },
    {
      "cell_type": "code",
      "metadata": {
        "id": "aovrcDUhysre"
      },
      "source": [
        "anomalies,anomalies_train,test,train,test_score_df,test_mae_loss,train_mae_loss,history,TIME_STEPS,col,scaler= lstm_anomaly(df,col=\"crest\",date=\"2020-09-10 04:00:00\",time_step=20,threshold=3)\n",
        "anomalyy= anomalies.reset_index()\n",
        "anomalyy[\"anomaly_count\"]=[1 for i in range(anomalies.shape[0])]\n",
        "total_anomalies = pd.concat((total_anomalies,anomalyy),axis=0)"
      ],
      "execution_count": null,
      "outputs": []
    },
    {
      "cell_type": "code",
      "metadata": {
        "id": "PfdSSLH3yspE"
      },
      "source": [
        "sns.distplot(train_mae_loss, bins=50, kde=True)"
      ],
      "execution_count": null,
      "outputs": []
    },
    {
      "cell_type": "code",
      "metadata": {
        "id": "N7-KR4ajysid"
      },
      "source": [
        "loss_plot()"
      ],
      "execution_count": null,
      "outputs": []
    },
    {
      "cell_type": "code",
      "metadata": {
        "id": "I0xzqyFiysXc"
      },
      "source": [
        "anomaly_plot(test,anomalies=anomalies,col=\"crest\")"
      ],
      "execution_count": null,
      "outputs": []
    },
    {
      "cell_type": "markdown",
      "metadata": {
        "id": "dfOg66ciCSSa"
      },
      "source": [
        "# zfreq"
      ]
    },
    {
      "cell_type": "code",
      "metadata": {
        "id": "J24XlX6jzBvM"
      },
      "source": [
        "anomalies,anomalies_train,test,train,test_score_df,test_mae_loss,train_mae_loss,history,TIME_STEPS,col,scaler= lstm_anomaly(df,col=\"zfreq\",date=\"2020-09-10 04:00:00\",time_step=20,threshold=3.2)\n",
        "anomalyy= anomalies.reset_index()\n",
        "anomalyy[\"anomaly_count\"]=[1 for i in range(anomalies.shape[0])]\n",
        "total_anomalies = pd.concat((total_anomalies,anomalyy),axis=0)"
      ],
      "execution_count": null,
      "outputs": []
    },
    {
      "cell_type": "code",
      "metadata": {
        "id": "y6frieDYzBss"
      },
      "source": [
        "sns.distplot(train_mae_loss, bins=50, kde=True)"
      ],
      "execution_count": null,
      "outputs": []
    },
    {
      "cell_type": "code",
      "metadata": {
        "id": "lbm68dngzBqH"
      },
      "source": [
        "loss_plot()"
      ],
      "execution_count": null,
      "outputs": []
    },
    {
      "cell_type": "code",
      "metadata": {
        "id": "qnwIM-MvzBnq"
      },
      "source": [
        "anomaly_plot(test,anomalies=anomalies,col=\"zfreq\")"
      ],
      "execution_count": null,
      "outputs": []
    },
    {
      "cell_type": "code",
      "metadata": {
        "id": "3XV99BiY4qLG"
      },
      "source": [
        "total_anomalies.groupby(\"Time\")[\"anomaly_count\"].sum().plot()\n",
        "ariza[\"ariza tarihleri\"].plot()"
      ],
      "execution_count": null,
      "outputs": []
    },
    {
      "cell_type": "code",
      "metadata": {
        "id": "bHk5vpqx4ysL"
      },
      "source": [
        "total_anomalies[\"Time\"].value_counts()"
      ],
      "execution_count": null,
      "outputs": []
    },
    {
      "cell_type": "code",
      "metadata": {
        "id": "u7wnlDRTFAXB"
      },
      "source": [
        "total_anomalies.to_csv(\"total_anomaly.csv\")"
      ],
      "execution_count": null,
      "outputs": []
    }
  ]
}